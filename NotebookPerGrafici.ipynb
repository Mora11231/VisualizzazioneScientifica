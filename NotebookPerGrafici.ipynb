{
 "cells": [
  {
   "cell_type": "code",
   "execution_count": 59,
   "id": "46d6e6db",
   "metadata": {},
   "outputs": [
    {
     "data": {
      "application/vnd.plotly.v1+json": {
       "config": {
        "plotlyServerURL": "https://plot.ly"
       },
       "data": [
        {
         "alignmentgroup": "True",
         "hovertemplate": "variable=P2P<br>value=%{x}<br>year=%{y}<extra></extra>",
         "legendgroup": "P2P",
         "marker": {
          "color": "#2c7bb6",
          "pattern": {
           "shape": ""
          }
         },
         "name": "P2P",
         "offsetgroup": "P2P",
         "orientation": "h",
         "showlegend": true,
         "textposition": "inside",
         "texttemplate": "%{x}",
         "type": "bar",
         "x": [
          44.65,
          99.79,
          90.88,
          96,
          5.61,
          19.84,
          90.05,
          44.5,
          88.62,
          40.19,
          74.04,
          67.07,
          51.99,
          87.9,
          81.84,
          null
         ],
         "xaxis": "x",
         "y": [
          2008,
          2009,
          2010,
          2011,
          2012,
          2013,
          2014,
          2015,
          2016,
          2017,
          2018,
          2019,
          2020,
          2021,
          2022,
          2023
         ],
         "yaxis": "y"
        },
        {
         "alignmentgroup": "True",
         "hovertemplate": "variable=F2P<br>value=%{x}<br>year=%{y}<extra></extra>",
         "legendgroup": "F2P",
         "marker": {
          "color": "#d7191c",
          "pattern": {
           "shape": ""
          }
         },
         "name": "F2P",
         "offsetgroup": "F2P",
         "orientation": "h",
         "showlegend": true,
         "textposition": "inside",
         "texttemplate": "%{x}",
         "type": "bar",
         "x": [
          55.35,
          0.21,
          9.12,
          4,
          94.39,
          80.16,
          9.95,
          55.5,
          11.38,
          59.81,
          25.96,
          32.93,
          48.01,
          12.1,
          18.16,
          null
         ],
         "xaxis": "x",
         "y": [
          2008,
          2009,
          2010,
          2011,
          2012,
          2013,
          2014,
          2015,
          2016,
          2017,
          2018,
          2019,
          2020,
          2021,
          2022,
          2023
         ],
         "yaxis": "y"
        }
       ],
       "layout": {
        "barmode": "stack",
        "font": {
         "family": "Calibri",
         "size": 15
        },
        "legend": {
         "orientation": "h",
         "title": {
          "text": "Categoria"
         },
         "tracegroupgap": 0,
         "x": 0.01,
         "xanchor": "left",
         "y": 0.99,
         "yanchor": "top"
        },
        "margin": {
         "t": 60
        },
        "template": {
         "data": {
          "bar": [
           {
            "error_x": {
             "color": "#2a3f5f"
            },
            "error_y": {
             "color": "#2a3f5f"
            },
            "marker": {
             "line": {
              "color": "white",
              "width": 0.5
             },
             "pattern": {
              "fillmode": "overlay",
              "size": 10,
              "solidity": 0.2
             }
            },
            "type": "bar"
           }
          ],
          "barpolar": [
           {
            "marker": {
             "line": {
              "color": "white",
              "width": 0.5
             },
             "pattern": {
              "fillmode": "overlay",
              "size": 10,
              "solidity": 0.2
             }
            },
            "type": "barpolar"
           }
          ],
          "carpet": [
           {
            "aaxis": {
             "endlinecolor": "#2a3f5f",
             "gridcolor": "#C8D4E3",
             "linecolor": "#C8D4E3",
             "minorgridcolor": "#C8D4E3",
             "startlinecolor": "#2a3f5f"
            },
            "baxis": {
             "endlinecolor": "#2a3f5f",
             "gridcolor": "#C8D4E3",
             "linecolor": "#C8D4E3",
             "minorgridcolor": "#C8D4E3",
             "startlinecolor": "#2a3f5f"
            },
            "type": "carpet"
           }
          ],
          "choropleth": [
           {
            "colorbar": {
             "outlinewidth": 0,
             "ticks": ""
            },
            "type": "choropleth"
           }
          ],
          "contour": [
           {
            "colorbar": {
             "outlinewidth": 0,
             "ticks": ""
            },
            "colorscale": [
             [
              0,
              "#0d0887"
             ],
             [
              0.1111111111111111,
              "#46039f"
             ],
             [
              0.2222222222222222,
              "#7201a8"
             ],
             [
              0.3333333333333333,
              "#9c179e"
             ],
             [
              0.4444444444444444,
              "#bd3786"
             ],
             [
              0.5555555555555556,
              "#d8576b"
             ],
             [
              0.6666666666666666,
              "#ed7953"
             ],
             [
              0.7777777777777778,
              "#fb9f3a"
             ],
             [
              0.8888888888888888,
              "#fdca26"
             ],
             [
              1,
              "#f0f921"
             ]
            ],
            "type": "contour"
           }
          ],
          "contourcarpet": [
           {
            "colorbar": {
             "outlinewidth": 0,
             "ticks": ""
            },
            "type": "contourcarpet"
           }
          ],
          "heatmap": [
           {
            "colorbar": {
             "outlinewidth": 0,
             "ticks": ""
            },
            "colorscale": [
             [
              0,
              "#0d0887"
             ],
             [
              0.1111111111111111,
              "#46039f"
             ],
             [
              0.2222222222222222,
              "#7201a8"
             ],
             [
              0.3333333333333333,
              "#9c179e"
             ],
             [
              0.4444444444444444,
              "#bd3786"
             ],
             [
              0.5555555555555556,
              "#d8576b"
             ],
             [
              0.6666666666666666,
              "#ed7953"
             ],
             [
              0.7777777777777778,
              "#fb9f3a"
             ],
             [
              0.8888888888888888,
              "#fdca26"
             ],
             [
              1,
              "#f0f921"
             ]
            ],
            "type": "heatmap"
           }
          ],
          "heatmapgl": [
           {
            "colorbar": {
             "outlinewidth": 0,
             "ticks": ""
            },
            "colorscale": [
             [
              0,
              "#0d0887"
             ],
             [
              0.1111111111111111,
              "#46039f"
             ],
             [
              0.2222222222222222,
              "#7201a8"
             ],
             [
              0.3333333333333333,
              "#9c179e"
             ],
             [
              0.4444444444444444,
              "#bd3786"
             ],
             [
              0.5555555555555556,
              "#d8576b"
             ],
             [
              0.6666666666666666,
              "#ed7953"
             ],
             [
              0.7777777777777778,
              "#fb9f3a"
             ],
             [
              0.8888888888888888,
              "#fdca26"
             ],
             [
              1,
              "#f0f921"
             ]
            ],
            "type": "heatmapgl"
           }
          ],
          "histogram": [
           {
            "marker": {
             "pattern": {
              "fillmode": "overlay",
              "size": 10,
              "solidity": 0.2
             }
            },
            "type": "histogram"
           }
          ],
          "histogram2d": [
           {
            "colorbar": {
             "outlinewidth": 0,
             "ticks": ""
            },
            "colorscale": [
             [
              0,
              "#0d0887"
             ],
             [
              0.1111111111111111,
              "#46039f"
             ],
             [
              0.2222222222222222,
              "#7201a8"
             ],
             [
              0.3333333333333333,
              "#9c179e"
             ],
             [
              0.4444444444444444,
              "#bd3786"
             ],
             [
              0.5555555555555556,
              "#d8576b"
             ],
             [
              0.6666666666666666,
              "#ed7953"
             ],
             [
              0.7777777777777778,
              "#fb9f3a"
             ],
             [
              0.8888888888888888,
              "#fdca26"
             ],
             [
              1,
              "#f0f921"
             ]
            ],
            "type": "histogram2d"
           }
          ],
          "histogram2dcontour": [
           {
            "colorbar": {
             "outlinewidth": 0,
             "ticks": ""
            },
            "colorscale": [
             [
              0,
              "#0d0887"
             ],
             [
              0.1111111111111111,
              "#46039f"
             ],
             [
              0.2222222222222222,
              "#7201a8"
             ],
             [
              0.3333333333333333,
              "#9c179e"
             ],
             [
              0.4444444444444444,
              "#bd3786"
             ],
             [
              0.5555555555555556,
              "#d8576b"
             ],
             [
              0.6666666666666666,
              "#ed7953"
             ],
             [
              0.7777777777777778,
              "#fb9f3a"
             ],
             [
              0.8888888888888888,
              "#fdca26"
             ],
             [
              1,
              "#f0f921"
             ]
            ],
            "type": "histogram2dcontour"
           }
          ],
          "mesh3d": [
           {
            "colorbar": {
             "outlinewidth": 0,
             "ticks": ""
            },
            "type": "mesh3d"
           }
          ],
          "parcoords": [
           {
            "line": {
             "colorbar": {
              "outlinewidth": 0,
              "ticks": ""
             }
            },
            "type": "parcoords"
           }
          ],
          "pie": [
           {
            "automargin": true,
            "type": "pie"
           }
          ],
          "scatter": [
           {
            "fillpattern": {
             "fillmode": "overlay",
             "size": 10,
             "solidity": 0.2
            },
            "type": "scatter"
           }
          ],
          "scatter3d": [
           {
            "line": {
             "colorbar": {
              "outlinewidth": 0,
              "ticks": ""
             }
            },
            "marker": {
             "colorbar": {
              "outlinewidth": 0,
              "ticks": ""
             }
            },
            "type": "scatter3d"
           }
          ],
          "scattercarpet": [
           {
            "marker": {
             "colorbar": {
              "outlinewidth": 0,
              "ticks": ""
             }
            },
            "type": "scattercarpet"
           }
          ],
          "scattergeo": [
           {
            "marker": {
             "colorbar": {
              "outlinewidth": 0,
              "ticks": ""
             }
            },
            "type": "scattergeo"
           }
          ],
          "scattergl": [
           {
            "marker": {
             "colorbar": {
              "outlinewidth": 0,
              "ticks": ""
             }
            },
            "type": "scattergl"
           }
          ],
          "scattermapbox": [
           {
            "marker": {
             "colorbar": {
              "outlinewidth": 0,
              "ticks": ""
             }
            },
            "type": "scattermapbox"
           }
          ],
          "scatterpolar": [
           {
            "marker": {
             "colorbar": {
              "outlinewidth": 0,
              "ticks": ""
             }
            },
            "type": "scatterpolar"
           }
          ],
          "scatterpolargl": [
           {
            "marker": {
             "colorbar": {
              "outlinewidth": 0,
              "ticks": ""
             }
            },
            "type": "scatterpolargl"
           }
          ],
          "scatterternary": [
           {
            "marker": {
             "colorbar": {
              "outlinewidth": 0,
              "ticks": ""
             }
            },
            "type": "scatterternary"
           }
          ],
          "surface": [
           {
            "colorbar": {
             "outlinewidth": 0,
             "ticks": ""
            },
            "colorscale": [
             [
              0,
              "#0d0887"
             ],
             [
              0.1111111111111111,
              "#46039f"
             ],
             [
              0.2222222222222222,
              "#7201a8"
             ],
             [
              0.3333333333333333,
              "#9c179e"
             ],
             [
              0.4444444444444444,
              "#bd3786"
             ],
             [
              0.5555555555555556,
              "#d8576b"
             ],
             [
              0.6666666666666666,
              "#ed7953"
             ],
             [
              0.7777777777777778,
              "#fb9f3a"
             ],
             [
              0.8888888888888888,
              "#fdca26"
             ],
             [
              1,
              "#f0f921"
             ]
            ],
            "type": "surface"
           }
          ],
          "table": [
           {
            "cells": {
             "fill": {
              "color": "#EBF0F8"
             },
             "line": {
              "color": "white"
             }
            },
            "header": {
             "fill": {
              "color": "#C8D4E3"
             },
             "line": {
              "color": "white"
             }
            },
            "type": "table"
           }
          ]
         },
         "layout": {
          "annotationdefaults": {
           "arrowcolor": "#2a3f5f",
           "arrowhead": 0,
           "arrowwidth": 1
          },
          "autotypenumbers": "strict",
          "coloraxis": {
           "colorbar": {
            "outlinewidth": 0,
            "ticks": ""
           }
          },
          "colorscale": {
           "diverging": [
            [
             0,
             "#8e0152"
            ],
            [
             0.1,
             "#c51b7d"
            ],
            [
             0.2,
             "#de77ae"
            ],
            [
             0.3,
             "#f1b6da"
            ],
            [
             0.4,
             "#fde0ef"
            ],
            [
             0.5,
             "#f7f7f7"
            ],
            [
             0.6,
             "#e6f5d0"
            ],
            [
             0.7,
             "#b8e186"
            ],
            [
             0.8,
             "#7fbc41"
            ],
            [
             0.9,
             "#4d9221"
            ],
            [
             1,
             "#276419"
            ]
           ],
           "sequential": [
            [
             0,
             "#0d0887"
            ],
            [
             0.1111111111111111,
             "#46039f"
            ],
            [
             0.2222222222222222,
             "#7201a8"
            ],
            [
             0.3333333333333333,
             "#9c179e"
            ],
            [
             0.4444444444444444,
             "#bd3786"
            ],
            [
             0.5555555555555556,
             "#d8576b"
            ],
            [
             0.6666666666666666,
             "#ed7953"
            ],
            [
             0.7777777777777778,
             "#fb9f3a"
            ],
            [
             0.8888888888888888,
             "#fdca26"
            ],
            [
             1,
             "#f0f921"
            ]
           ],
           "sequentialminus": [
            [
             0,
             "#0d0887"
            ],
            [
             0.1111111111111111,
             "#46039f"
            ],
            [
             0.2222222222222222,
             "#7201a8"
            ],
            [
             0.3333333333333333,
             "#9c179e"
            ],
            [
             0.4444444444444444,
             "#bd3786"
            ],
            [
             0.5555555555555556,
             "#d8576b"
            ],
            [
             0.6666666666666666,
             "#ed7953"
            ],
            [
             0.7777777777777778,
             "#fb9f3a"
            ],
            [
             0.8888888888888888,
             "#fdca26"
            ],
            [
             1,
             "#f0f921"
            ]
           ]
          },
          "colorway": [
           "#636efa",
           "#EF553B",
           "#00cc96",
           "#ab63fa",
           "#FFA15A",
           "#19d3f3",
           "#FF6692",
           "#B6E880",
           "#FF97FF",
           "#FECB52"
          ],
          "font": {
           "color": "#2a3f5f"
          },
          "geo": {
           "bgcolor": "white",
           "lakecolor": "white",
           "landcolor": "white",
           "showlakes": true,
           "showland": true,
           "subunitcolor": "#C8D4E3"
          },
          "hoverlabel": {
           "align": "left"
          },
          "hovermode": "closest",
          "mapbox": {
           "style": "light"
          },
          "paper_bgcolor": "white",
          "plot_bgcolor": "white",
          "polar": {
           "angularaxis": {
            "gridcolor": "#EBF0F8",
            "linecolor": "#EBF0F8",
            "ticks": ""
           },
           "bgcolor": "white",
           "radialaxis": {
            "gridcolor": "#EBF0F8",
            "linecolor": "#EBF0F8",
            "ticks": ""
           }
          },
          "scene": {
           "xaxis": {
            "backgroundcolor": "white",
            "gridcolor": "#DFE8F3",
            "gridwidth": 2,
            "linecolor": "#EBF0F8",
            "showbackground": true,
            "ticks": "",
            "zerolinecolor": "#EBF0F8"
           },
           "yaxis": {
            "backgroundcolor": "white",
            "gridcolor": "#DFE8F3",
            "gridwidth": 2,
            "linecolor": "#EBF0F8",
            "showbackground": true,
            "ticks": "",
            "zerolinecolor": "#EBF0F8"
           },
           "zaxis": {
            "backgroundcolor": "white",
            "gridcolor": "#DFE8F3",
            "gridwidth": 2,
            "linecolor": "#EBF0F8",
            "showbackground": true,
            "ticks": "",
            "zerolinecolor": "#EBF0F8"
           }
          },
          "shapedefaults": {
           "line": {
            "color": "#2a3f5f"
           }
          },
          "ternary": {
           "aaxis": {
            "gridcolor": "#DFE8F3",
            "linecolor": "#A2B1C6",
            "ticks": ""
           },
           "baxis": {
            "gridcolor": "#DFE8F3",
            "linecolor": "#A2B1C6",
            "ticks": ""
           },
           "bgcolor": "white",
           "caxis": {
            "gridcolor": "#DFE8F3",
            "linecolor": "#A2B1C6",
            "ticks": ""
           }
          },
          "title": {
           "x": 0.05
          },
          "xaxis": {
           "automargin": true,
           "gridcolor": "#EBF0F8",
           "linecolor": "#EBF0F8",
           "ticks": "",
           "title": {
            "standoff": 15
           },
           "zerolinecolor": "#EBF0F8",
           "zerolinewidth": 2
          },
          "yaxis": {
           "automargin": true,
           "gridcolor": "#EBF0F8",
           "linecolor": "#EBF0F8",
           "ticks": "",
           "title": {
            "standoff": 15
           },
           "zerolinecolor": "#EBF0F8",
           "zerolinewidth": 2
          }
         }
        },
        "title": {
         "text": "F2P vs P2P PEAK CCU"
        },
        "xaxis": {
         "anchor": "y",
         "domain": [
          0,
          1
         ],
         "range": [
          -5,
          105
         ],
         "tickmode": "array",
         "ticktext": [
          0,
          5,
          10,
          15,
          20,
          25,
          30,
          35,
          40,
          45,
          50,
          55,
          60,
          65,
          70,
          75,
          80,
          85,
          90,
          95,
          100
         ],
         "tickvals": [
          0,
          5,
          10,
          15,
          20,
          25,
          30,
          35,
          40,
          45,
          50,
          55,
          60,
          65,
          70,
          75,
          80,
          85,
          90,
          95,
          100
         ],
         "title": {
          "text": "Videogiochi (%)"
         }
        },
        "yaxis": {
         "anchor": "x",
         "domain": [
          0,
          1
         ],
         "tickmode": "array",
         "ticktext": [
          2008,
          2009,
          2010,
          2011,
          2012,
          2013,
          2014,
          2015,
          2016,
          2017,
          2018,
          2019,
          2020,
          2021,
          2022
         ],
         "tickvals": [
          2008,
          2009,
          2010,
          2011,
          2012,
          2013,
          2014,
          2015,
          2016,
          2017,
          2018,
          2019,
          2020,
          2021,
          2022
         ],
         "title": {
          "text": "Anni"
         }
        }
       }
      }
     },
     "metadata": {},
     "output_type": "display_data"
    }
   ],
   "source": [
    "import pandas as pd\n",
    "import plotly.graph_objs as go\n",
    "import plotly.express as px\n",
    "import numpy as np\n",
    "\n",
    "\n",
    "\n",
    "\n",
    "def valoreOwnerStimatoD(x,y):\n",
    "    a = x.split()\n",
    "    return int(int(a[0]) + int(a[2]))/2 + y\n",
    "\n",
    "def graficoBarrePerEstimated():\n",
    "    df = pd.read_csv('CodicePerGrafici/fileAggiornato.csv')\n",
    "    df['Estimated owners'] =  df.apply(lambda x:valoreOwnerStimatoD(x['Estimated owners'],x['Peak CCU']),axis=1)\n",
    "    df['Release date'] = df['Release date'].astype('datetime64[ns]')\n",
    "    df['year'] = df['Release date'].apply(lambda x: x.year)\n",
    "\n",
    "    df = df[['Estimated owners','year']].groupby('year').sum()\n",
    "    df = df['Estimated owners']\n",
    "\n",
    "    sum_df = df.cumsum()\n",
    "    df[2003] = sum_df[2003]\n",
    "\n",
    "    fig = go.Figure()\n",
    "\n",
    "    graph1 = go.Bar(\n",
    "        x=df.index[6:-1],\n",
    "        y=df[6:-1],\n",
    "        marker=dict(\n",
    "            color='#253494' \n",
    "            ),\n",
    "        name =\"Numero di owner\"\n",
    "        )\n",
    "    \n",
    "    graph2 = go.Scatter(\n",
    "        x=sum_df.index[6:-1],\n",
    "        y= sum_df[6:-1],\n",
    "        line={'width': 4, 'color':'#2c7fb8'},\n",
    "        marker=dict(\n",
    "                size=12,\n",
    "                line={'width': 2, 'color':'#2c7fb8'},\n",
    "                color='white' \n",
    "\n",
    "            ),\n",
    "        mode=\"markers+lines\",\n",
    "        name =\"Numero di Acqusiti cumulativa\"\n",
    "        )\n",
    "    \n",
    "\n",
    "    fig.add_trace(graph1)\n",
    "    fig.add_trace(graph2)\n",
    "\n",
    "    fig.update_layout(\n",
    "        template=\"plotly_white\",\n",
    "        font_family=\"Calibri\",\n",
    "        xaxis_title=\"Anni\",\n",
    "        yaxis_title=\"Numero di Acquisti\",\n",
    "\n",
    "        plot_bgcolor = '#ffffff',\n",
    "\n",
    "        xaxis=dict(\n",
    "            tickmode='array',\n",
    "            tickvals=df.index[6:-1],\n",
    "            ticktext=[\">=2003\",2004,2005,2006,2007,2008,2009,2010,2011,2012,2013,2014,2015,2016,2017,2018,2019,2020,2021,2022]\n",
    "        ),\n",
    "\n",
    "        legend=dict(\n",
    "            title = 'Legenda:',\n",
    "            bgcolor='white' \n",
    "        ),\n",
    "        \n",
    "        font=dict( \n",
    "            size=15, \n",
    "            color='#000000'\n",
    "        ),\n",
    "        yaxis=dict(\n",
    "            dtick=500000000,\n",
    "            range=(0,7100000000)\n",
    "        )\n",
    "        \n",
    "    )\n",
    "\n",
    "    fig.update_xaxes(\n",
    "        showgrid=True,\n",
    "        gridwidth=2,\n",
    "        linewidth=2,\n",
    "        linecolor=\"black\"\n",
    "        \n",
    "    )\n",
    "\n",
    "    fig.update_yaxes(\n",
    "        showgrid=True,\n",
    "        gridwidth=2,\n",
    "        linewidth=2,\n",
    "        linecolor=\"black\"\n",
    "    )\n",
    "\n",
    "    fig.show()\n",
    "\n",
    "def replaceNanNum(x):\n",
    "    if x != x:\n",
    "        return 0\n",
    "    return x\n",
    "\n",
    "def diagrammaBarreF2PvsP2P():\n",
    "    df = pd.read_csv('CodicePerGrafici/fileAggiornatoF2P.csv')\n",
    "    df['Release date'] = df['Release date'].astype('datetime64[ns]')\n",
    "\n",
    "    df['year'] = df['Release date'].apply(lambda x: x.year)\n",
    "\n",
    "    P2P = df[df['F2P'] == False]\n",
    "    F2P = df[df['F2P'] == True]\n",
    "\n",
    "\n",
    "\n",
    "    series_P2P = P2P[['year']].value_counts().sort_index()\n",
    "    series_F2P = F2P[['year']].value_counts().sort_index()\n",
    "\n",
    "    series_F2P.apply(lambda x : replaceNanNum(x))\n",
    "    series_P2P.apply(lambda x : replaceNanNum(x))\n",
    "\n",
    "\n",
    "\n",
    "    sum_p2p = series_P2P.cumsum().sort_index()\n",
    "    series_P2P[2008] = sum_p2p[2008]\n",
    "    series_P2P = series_P2P[11:-1]\n",
    "\n",
    "    sum_f2p = series_F2P.cumsum().sort_index()\n",
    "    series_F2P[2008] = sum_f2p[2008]\n",
    "    series_F2P = series_F2P.loc[2008:]          #ci sono dei vuoti negli anni\n",
    "    \n",
    "\n",
    "    df = pd.DataFrame(columns = ['P2P', 'F2P'])\n",
    "    df['P2P'] = round(series_P2P/(series_P2P+series_F2P)*100,1)\n",
    "    df['F2P'] = round(series_F2P/(series_P2P+series_F2P)*100,1)\n",
    "\n",
    "    df.reset_index(inplace=True)\n",
    "    fig = px.bar(df, x=['P2P','F2P'], y='year',\n",
    "            barmode='stack',\n",
    "            orientation='h',\n",
    "            text_auto=True,\n",
    "            color_discrete_map={'P2P': '#2c7bb6', 'F2P': '#d7191c'}\n",
    "            )\n",
    "    fig.update_traces(textposition=\"inside\")\n",
    "\n",
    "\n",
    "    fig.update_layout(\n",
    "        template=\"plotly_white\",\n",
    "        font_family=\"Calibri\",\n",
    "        xaxis_title=\"Videogiochi (%)\",\n",
    "        yaxis_title=\"Anni\",\n",
    "        legend=dict(\n",
    "            orientation=\"h\",\n",
    "            yanchor=\"top\",\n",
    "            y=0.99,\n",
    "            xanchor=\"left\",\n",
    "            x=0.01\n",
    "        ),\n",
    "\n",
    "        legend_title = \"Categoria\",\n",
    "        font=dict( \n",
    "            size=15, \n",
    "            color=\"#000000\" \n",
    "        ),\n",
    "        xaxis=dict(\n",
    "            tickmode='array',\n",
    "            range = (-5,105),\n",
    "            tickvals=np.arange(0,101,5),\n",
    "            ticktext=np.arange(0,101,5),\n",
    "        ),\n",
    "\n",
    "        yaxis=dict(\n",
    "            tickmode='array',\n",
    "            tickvals=np.arange(2008,2023,1),\n",
    "            ticktext=np.arange(2008,2023,1)\n",
    "        ),\n",
    "    )\n",
    "    \n",
    "    \n",
    "    fig.show()\n",
    "\n",
    "\n",
    "def uscitePerMese():\n",
    "    df = pd.read_csv('CodicePerGrafici/fileAggiornatoF2P.csv')\n",
    "    df['Release date'] = df['Release date'].astype('datetime64[ns]')\n",
    "    df['month'] = df['Release date'].apply(lambda x: x.month)\n",
    "\n",
    "\n",
    "    fig = go.Figure()\n",
    "    series = df['month'].value_counts(normalize=True).sort_index()\n",
    "\n",
    "    graph = go.Bar(\n",
    "            x=series.index,\n",
    "            y=series,\n",
    "            marker=dict(\n",
    "                color='#2a475e' \n",
    "            )\n",
    "            \n",
    "        )\n",
    "    \n",
    "    fig.add_trace(graph)\n",
    "\n",
    "    fig.update_layout(\n",
    "        font_family=\"Calibri\",\n",
    "        template='simple_white',\n",
    "        yaxis_title=\"Frequenza Relativa\",\n",
    "        xaxis=dict(\n",
    "            tickmode='array',\n",
    "            tickvals=series.index,\n",
    "            ticktext=[\"Gen\",\"Feb\",\"Mar\",\"Apr\",\"Mag\",\"Giu\",\"Lug\",\"Ago\",\"Set\",\"Ott\",\"Nov\",\"Dic\"]\n",
    "        ),\n",
    "        \n",
    "        font=dict( \n",
    "            size=17, \n",
    "            color=\"#171a21\" \n",
    "        )\n",
    "    )\n",
    "\n",
    "\n",
    "    fig.update_xaxes(\n",
    "\n",
    "        gridwidth=2,\n",
    "        linewidth=2,\n",
    "        linecolor=\"black\"\n",
    "        \n",
    "    )\n",
    "\n",
    "    fig.update_yaxes(\n",
    "\n",
    "        showgrid=True,\n",
    "        gridwidth=2,\n",
    "        linewidth=2,\n",
    "        linecolor=\"black\"\n",
    "    )\n",
    "    fig.show() \n",
    "\n",
    "\n",
    "def valoreOwnerStimato(x):\n",
    "    a = x.split()\n",
    "    return int((int(a[0]) + int(a[2]))/2)\n",
    "\n",
    "def diagrammaBarreF2PvsP2PAvgTime():\n",
    "    df = pd.read_csv('CodicePerGrafici/fileAggiornatoF2P.csv')\n",
    "    df['Release date'] = df['Release date'].astype('datetime64[ns]')\n",
    "\n",
    "    df['Estimated owners'] =  df.apply(lambda x:valoreOwnerStimato(x['Estimated owners']),axis=1)\n",
    "    \n",
    "    df['year'] = df['Release date'].apply(lambda x: x.year)\n",
    "\n",
    "    P2P = df[df['F2P'] == False]\n",
    "    F2P = df[df['F2P'] == True]\n",
    "\n",
    "    P2P['Average playtime forever'] = P2P['Average playtime forever'] * P2P['Estimated owners']\n",
    "    F2P['Average playtime forever'] = F2P['Average playtime forever'] * F2P['Estimated owners']\n",
    "\n",
    "    series_P2P = P2P[['year','Average playtime forever']].groupby('year').sum().sort_index()\n",
    "    series_F2P = F2P[['year','Average playtime forever']].groupby('year').sum().sort_index()\n",
    "\n",
    "    sum_p2p = series_P2P.cumsum().sort_index()\n",
    "    series_P2P.loc[2008] = sum_p2p.loc[2008]\n",
    "    series_P2P = series_P2P[11:-1]\n",
    "\n",
    "    sum_f2p = series_F2P.cumsum().sort_index()\n",
    "    series_F2P.loc[2008] = sum_f2p.loc[2008]\n",
    "    series_F2P = series_F2P.loc[2008:]          #ci sono dei vuoti negli anni\n",
    "    \n",
    "\n",
    "    df = pd.DataFrame(columns = ['P2P', 'F2P'])\n",
    "    df['P2P'] = round(series_P2P/(series_P2P+series_F2P)*100,2)\n",
    "    df['F2P'] = round(series_F2P/(series_P2P+series_F2P)*100,2)\n",
    "\n",
    "    df.reset_index(inplace=True)\n",
    "    fig = px.bar(df, x=['P2P','F2P'], y='year',\n",
    "            barmode='stack',\n",
    "            orientation='h',\n",
    "            text_auto=True,\n",
    "            color_discrete_map={'P2P': '#2c7bb6', 'F2P': '#d7191c'}\n",
    "            )\n",
    "    fig.update_traces(textposition=\"inside\")\n",
    "\n",
    "\n",
    "    fig.update_layout(\n",
    "        template=\"plotly_white\",\n",
    "        font_family=\"Calibri\",\n",
    "        xaxis_title=\"Videogiochi (%)\",\n",
    "        yaxis_title=\"Anni\",\n",
    "        legend=dict(\n",
    "            orientation=\"h\",\n",
    "            yanchor=\"top\",\n",
    "            y=0.99,\n",
    "            xanchor=\"left\",\n",
    "            x=0.01\n",
    "        ),\n",
    "\n",
    "        legend_title = \"Categoria\",\n",
    "        font=dict( \n",
    "            size=15, \n",
    "            color=\"#000000\" \n",
    "        ),\n",
    "        xaxis=dict(\n",
    "            tickmode='array',\n",
    "            range = (-5,105),\n",
    "            tickvals=np.arange(0,101,5),\n",
    "            ticktext=np.arange(0,101,5),\n",
    "        ),\n",
    "\n",
    "        yaxis=dict(\n",
    "            tickmode='array',\n",
    "            tickvals=np.arange(2008,2023,1),\n",
    "            ticktext=np.arange(2008,2023,1)\n",
    "        ),\n",
    "    )\n",
    "    \n",
    "    \n",
    "    fig.show()\n",
    "\n",
    "def diagrammaBarreF2PvsP2PPeakCCU():\n",
    "    df = pd.read_csv('CodicePerGrafici/fileAggiornatoF2P.csv')\n",
    "    df['Release date'] = df['Release date'].astype('datetime64[ns]')\n",
    "\n",
    "    df['year'] = df['Release date'].apply(lambda x: x.year)\n",
    "\n",
    "    P2P = df[df['F2P'] == False]\n",
    "    F2P = df[df['F2P'] == True]\n",
    "\n",
    "    series_P2P = P2P[['year','Peak CCU']].groupby('year').sum().sort_index()\n",
    "    series_F2P = F2P[['year','Peak CCU']].groupby('year').sum().sort_index()\n",
    "\n",
    "    sum_p2p = series_P2P.cumsum().sort_index()\n",
    "    series_P2P.loc[2008] = sum_p2p.loc[2008]\n",
    "    series_P2P = series_P2P[11:-1]\n",
    "\n",
    "    sum_f2p = series_F2P.cumsum().sort_index()\n",
    "    series_F2P.loc[2008] = sum_f2p.loc[2008]\n",
    "    series_F2P = series_F2P.loc[2008:]          #ci sono dei vuoti negli anni\n",
    "    \n",
    "\n",
    "    df = pd.DataFrame(columns = ['P2P', 'F2P'])\n",
    "    df['P2P'] = round(series_P2P/(series_P2P+series_F2P)*100,2)\n",
    "    df['F2P'] = round(series_F2P/(series_P2P+series_F2P)*100,2)\n",
    "\n",
    "    df.reset_index(inplace=True)\n",
    "    fig = px.bar(df, x=['P2P','F2P'], y='year',\n",
    "            barmode='stack',\n",
    "            orientation='h',\n",
    "            text_auto=True,\n",
    "            color_discrete_map={'P2P': '#2c7bb6', 'F2P': '#d7191c'}\n",
    "            )\n",
    "    fig.update_traces(textposition=\"inside\")\n",
    "\n",
    "\n",
    "    fig.update_layout(\n",
    "        template='plotly_white',\n",
    "        font_family=\"Calibri\",\n",
    "        title = \"F2P vs P2P PEAK CCU\",\n",
    "        xaxis_title=\"Peak CCU (%)\",\n",
    "        yaxis_title=\"Anni\",\n",
    "        legend=dict(\n",
    "            orientation=\"h\",\n",
    "            yanchor=\"top\",\n",
    "            y=0.99,\n",
    "            xanchor=\"left\",\n",
    "            x=0.01\n",
    "        ),\n",
    "        legend_title = \"Categoria\",\n",
    "        font=dict( \n",
    "            size=15, \n",
    "        ),\n",
    "        xaxis=dict(\n",
    "            tickmode='array',\n",
    "            range = (-5,105),\n",
    "            tickvals=np.arange(0,101,5),\n",
    "            ticktext=np.arange(0,101,5),\n",
    "        ),\n",
    "\n",
    "        yaxis=dict(\n",
    "            tickmode='array',\n",
    "            tickvals=np.arange(2008,2023,1),\n",
    "            ticktext=np.arange(2008,2023,1)\n",
    "        ),\n",
    "    )\n",
    "    \n",
    "    \n",
    "    fig.show()\n",
    "\n",
    "#graficoBarrePerEstimated()\n",
    "#diagrammaBarreF2PvsP2P()\n",
    "#uscitePerMese()\n",
    "#diagrammaBarreF2PvsP2PAvgTime()\n",
    "diagrammaBarreF2PvsP2PPeakCCU()"
   ]
  },
  {
   "cell_type": "code",
   "execution_count": 64,
   "id": "14c587e4",
   "metadata": {},
   "outputs": [
    {
     "name": "stdout",
     "output_type": "stream",
     "text": [
      "Name 0\n",
      "Release date 0\n",
      "Estimated owners 0\n",
      "Peak CCU 0\n",
      "Price 0\n",
      "DLC count 0\n",
      "Supported languages 0\n",
      "Windows 0\n",
      "Mac 0\n",
      "Linux 0\n",
      "Metacritic score 0\n",
      "User score 0\n",
      "Positive 0\n",
      "Negative 0\n",
      "Achievements 0\n",
      "Recommendations 0\n",
      "Average playtime forever 0\n",
      "Average playtime two weeks 0\n",
      "Median playtime forever 0\n",
      "Median playtime two weeks 0\n",
      "Developers 0\n",
      "Publishers 120\n",
      "Categories 119\n",
      "Genres 28\n",
      "Tags 6\n"
     ]
    },
    {
     "data": {
      "text/plain": [
       "['Adventure,Casual,Free to Play,Massively Multiplayer,RPG,Strategy',\n",
       " 'Action,Adventure,Indie',\n",
       " 'Indie,RPG',\n",
       " 'Strategy',\n",
       " 'Casual,Indie',\n",
       " 'Action',\n",
       " 'Adventure,Casual,Indie,RPG',\n",
       " 'Indie,Strategy',\n",
       " 'Action,Adventure,Casual,Indie',\n",
       " 'Action,Indie,Racing,Simulation',\n",
       " 'Action,Adventure,Casual,Indie',\n",
       " 'Massively Multiplayer,Racing,Simulation,Sports',\n",
       " 'Casual',\n",
       " 'Adventure,Indie,RPG',\n",
       " 'Action,Indie',\n",
       " 'Action,Casual,Indie',\n",
       " 'Action,Indie,Early Access',\n",
       " 'Adventure,Casual,Indie',\n",
       " 'Action,Adventure',\n",
       " 'Adventure,Indie,RPG',\n",
       " 'Casual,Free to Play,Indie,Massively Multiplayer,RPG,Simulation',\n",
       " 'Action,Adventure',\n",
       " 'Adventure,Casual,Indie,Simulation,Strategy',\n",
       " 'Adventure,Casual',\n",
       " 'Casual,Indie',\n",
       " 'Racing',\n",
       " 'Action,Casual',\n",
       " 'Action,Racing,Sports',\n",
       " 'Action,Adventure,RPG,Simulation,Strategy,Early Access',\n",
       " 'Action',\n",
       " 'Action,Adventure,Indie',\n",
       " 'Adventure,Indie',\n",
       " 'Action,Casual,Indie,Early Access',\n",
       " 'Adventure,Casual,Indie',\n",
       " 'Action,Adventure,Indie,RPG',\n",
       " 'Action,Adventure,Casual,Indie',\n",
       " 'Racing,Simulation,Sports',\n",
       " 'Indie,Simulation',\n",
       " 'Adventure,Indie,RPG,Strategy',\n",
       " 'Adventure,Casual,Indie',\n",
       " 'Free to Play,Massively Multiplayer,RPG',\n",
       " 'Action,Adventure,Casual,Indie',\n",
       " 'Action,Casual',\n",
       " 'Casual',\n",
       " 'Action',\n",
       " 'Action',\n",
       " 'Casual,Indie,Racing,Sports',\n",
       " 'Action,Indie',\n",
       " 'Action,Casual,Indie',\n",
       " 'Indie',\n",
       " 'Action',\n",
       " 'Action,Indie',\n",
       " 'Casual',\n",
       " 'Adventure',\n",
       " 'Adventure,Indie',\n",
       " 'Adventure,Casual,Indie,RPG,Simulation,Strategy',\n",
       " 'Casual,Indie',\n",
       " 'Adventure,Indie',\n",
       " 'Casual,Free to Play,Sports,Strategy',\n",
       " 'Action,Adventure,Free to Play,Indie',\n",
       " 'RPG',\n",
       " 'Strategy',\n",
       " 'Action,Adventure,Casual,Indie,Racing',\n",
       " 'Indie,Simulation,Strategy',\n",
       " 'Adventure,Indie,Simulation',\n",
       " 'Racing,Simulation,Sports',\n",
       " 'Action,Adventure,Indie',\n",
       " 'Action,Casual,Racing',\n",
       " 'Action,Adventure,Indie,Strategy',\n",
       " 'Indie,Simulation',\n",
       " 'Action,Casual,Indie,Strategy',\n",
       " 'Action,Adventure,Indie',\n",
       " 'Adventure,Casual,Indie,Simulation',\n",
       " 'Action,Casual,Indie,Strategy',\n",
       " 'Adventure,Casual,Indie,Strategy',\n",
       " 'Adventure,RPG',\n",
       " 'RPG',\n",
       " 'Strategy',\n",
       " 'Racing',\n",
       " 'Strategy',\n",
       " 'Casual,Indie,Strategy',\n",
       " 'Casual,Indie,Simulation',\n",
       " 'Action,Casual,Indie',\n",
       " 'Indie,Simulation',\n",
       " 'Action,Adventure,Casual,Indie',\n",
       " 'Action,Indie',\n",
       " 'Game Development',\n",
       " 'Strategy,RPG,Indie',\n",
       " 'Sexual Content,Adventure,RPG,Strategy',\n",
       " 'Adventure,Indie',\n",
       " 'Action,Indie',\n",
       " 'Action,Casual',\n",
       " 'Free to Play,Indie,RPG',\n",
       " 'Free to Play,Indie,Massively Multiplayer,RPG',\n",
       " 'Free to Play,Simulation',\n",
       " 'Action,Adventure,Indie',\n",
       " 'Casual,Simulation,Strategy',\n",
       " 'Utilities',\n",
       " 'Adventure,Indie,Simulation',\n",
       " 'Indie,RPG,Strategy',\n",
       " 'Indie',\n",
       " 'Casual,Indie',\n",
       " 'Utilities',\n",
       " 'Action,Casual,Free to Play,Indie',\n",
       " 'Casual,Indie',\n",
       " 'Adventure,Casual,Indie,RPG,Strategy',\n",
       " 'Adventure,Indie',\n",
       " 'Action,Casual,Free to Play,Indie,RPG',\n",
       " 'Indie,Simulation',\n",
       " 'Casual,Indie',\n",
       " 'Action,Indie',\n",
       " 'Action',\n",
       " 'Strategy',\n",
       " 'Action',\n",
       " 'Action,Adventure,Indie',\n",
       " 'Free to Play',\n",
       " 'Adventure,Indie',\n",
       " 'Casual,Indie',\n",
       " 'Action,Indie',\n",
       " 'Action,Indie',\n",
       " 'Casual,Indie',\n",
       " 'Adventure,Casual,Free to Play,Massively Multiplayer,RPG,Simulation,Sports',\n",
       " 'Action,Adventure,Casual,Indie,Massively Multiplayer,RPG,Simulation',\n",
       " 'RPG',\n",
       " 'Adventure,Indie',\n",
       " 'Casual,Free to Play,Indie',\n",
       " 'RPG,Strategy',\n",
       " 'Adventure,Casual,Indie,RPG',\n",
       " 'Action,Adventure',\n",
       " 'Animation & Modeling,Design & Illustration,Utilities',\n",
       " 'Action,Adventure,Casual,Indie',\n",
       " 'Indie,Simulation,Strategy',\n",
       " 'Simulation',\n",
       " 'Indie,Simulation',\n",
       " 'Adventure,Casual,Indie',\n",
       " 'Indie,Strategy',\n",
       " 'Free to Play,Indie,Strategy,Early Access',\n",
       " 'Indie,RPG,Strategy',\n",
       " 'Indie,Simulation',\n",
       " 'Adventure,Indie',\n",
       " 'Indie',\n",
       " 'Casual,Indie,Simulation,Strategy',\n",
       " 'RPG,Design & Illustration,Utilities',\n",
       " 'Adventure,Indie,RPG',\n",
       " 'Indie,Simulation,Early Access',\n",
       " 'Action,Indie,Simulation,Strategy',\n",
       " 'Action,Indie,Strategy',\n",
       " 'Casual,Indie',\n",
       " 'Indie,Simulation,Strategy,Early Access',\n",
       " 'Action,Adventure,Indie',\n",
       " 'Adventure,Indie',\n",
       " 'Action,Adventure',\n",
       " 'Indie,Strategy',\n",
       " 'Casual,Indie,Strategy',\n",
       " 'Action,Adventure,Indie',\n",
       " 'Adventure,Indie',\n",
       " 'Action',\n",
       " 'Action,Adventure,Indie,RPG',\n",
       " 'Adventure,Indie,RPG',\n",
       " 'Action,Simulation',\n",
       " 'Strategy',\n",
       " 'Action,Adventure,Casual,Indie,Simulation',\n",
       " 'Action,Adventure,Free to Play,Indie,Massively Multiplayer,RPG,Early Access',\n",
       " 'Simulation',\n",
       " 'Action,Indie',\n",
       " 'Indie,Strategy',\n",
       " 'Indie',\n",
       " 'Action,Adventure,Indie',\n",
       " 'Sexual Content,Nudity,Adventure,Free to Play,Indie,RPG',\n",
       " 'Indie,Simulation',\n",
       " 'Casual,Free to Play,Indie',\n",
       " 'Adventure,Indie,RPG',\n",
       " 'Action,Indie,Simulation',\n",
       " 'Casual,Indie',\n",
       " 'Action,Free to Play,Indie,Simulation,Strategy,Early Access',\n",
       " 'Action,Casual,Free to Play,Early Access',\n",
       " 'Casual,Simulation,Early Access',\n",
       " 'Action,Adventure,Free to Play,Massively Multiplayer,RPG',\n",
       " 'Action',\n",
       " 'Indie',\n",
       " 'Casual,Indie',\n",
       " 'Action,Adventure,Free to Play,Indie,Strategy',\n",
       " 'Action,Early Access',\n",
       " 'Strategy',\n",
       " 'Action,Adventure,Indie,Simulation',\n",
       " 'Adventure,Indie',\n",
       " 'Adventure,Free to Play,Indie',\n",
       " 'Casual,Indie,Strategy',\n",
       " 'Adventure,RPG,Simulation',\n",
       " 'Adventure,Indie,RPG,Strategy',\n",
       " 'Adventure,Casual,Indie,RPG,Strategy',\n",
       " 'Casual,Indie',\n",
       " 'Indie,Simulation,Strategy,Early Access',\n",
       " 'Action,Casual,Free to Play,Simulation,Strategy',\n",
       " 'Strategy',\n",
       " 'Adventure,Indie',\n",
       " 'Adventure,Casual,Indie,RPG,Strategy',\n",
       " 'Action,Adventure,Indie',\n",
       " 'Action,Indie,Strategy',\n",
       " 'Adventure,Casual,Indie,Simulation',\n",
       " 'Action,Indie',\n",
       " 'Action,Adventure,Free to Play',\n",
       " 'Casual,RPG',\n",
       " 'Adventure,Indie,RPG,Strategy',\n",
       " 'Indie,Strategy',\n",
       " 'Free to Play,Simulation',\n",
       " 'Casual,Indie,Strategy',\n",
       " 'Adventure,Indie,RPG,Strategy',\n",
       " 'Casual,Indie',\n",
       " 'Adventure',\n",
       " 'Casual,Indie,Simulation',\n",
       " 'Action,Adventure,Indie',\n",
       " 'Action,Adventure,Indie,RPG,Strategy,Early Access',\n",
       " 'Action',\n",
       " 'Adventure,Casual,Indie,Strategy',\n",
       " 'Indie',\n",
       " 'Action,Indie',\n",
       " 'Action,Adventure,Casual,Indie,Simulation',\n",
       " 'Adventure,Indie,RPG,Simulation,Strategy',\n",
       " 'Action,Adventure,Indie',\n",
       " 'Action,Adventure,Casual,Indie',\n",
       " 'Adventure,Indie',\n",
       " 'Action,RPG',\n",
       " 'Action,Free to Play,Indie',\n",
       " 'Strategy',\n",
       " 'Action,Adventure,RPG',\n",
       " 'Indie',\n",
       " 'Indie,Simulation',\n",
       " 'Action,Casual,Indie',\n",
       " 'Adventure,Casual,Indie,Strategy',\n",
       " 'Casual,Simulation,Strategy',\n",
       " 'Adventure,Indie,RPG',\n",
       " 'Casual,Simulation',\n",
       " 'Adventure,Indie,Massively Multiplayer,RPG',\n",
       " 'Adventure',\n",
       " 'Action,Adventure,Indie,RPG,Early Access',\n",
       " 'Action,Adventure',\n",
       " 'Free to Play,Massively Multiplayer',\n",
       " 'Simulation,Strategy',\n",
       " 'Action,Adventure,Free to Play,Massively Multiplayer',\n",
       " 'Casual,Indie',\n",
       " 'Simulation',\n",
       " 'Action,Indie',\n",
       " 'Casual,RPG,Strategy,Early Access',\n",
       " 'Adventure,Indie',\n",
       " 'Racing,Sports',\n",
       " 'Indie,RPG,Simulation,Strategy',\n",
       " 'Action,Massively Multiplayer,Early Access',\n",
       " 'Adventure,Indie',\n",
       " 'Casual,Indie,Strategy',\n",
       " 'Indie,RPG,Strategy',\n",
       " 'Adventure,Indie',\n",
       " 'Indie,RPG,Strategy',\n",
       " 'Action,Indie',\n",
       " 'Casual,Indie',\n",
       " 'Adventure,Indie',\n",
       " 'Free to Play,RPG',\n",
       " 'Action,Free to Play,Indie',\n",
       " 'Adventure,Indie',\n",
       " 'Casual,Indie',\n",
       " 'Indie,RPG,Strategy',\n",
       " 'RPG',\n",
       " 'Action,Indie,RPG,Simulation,Strategy',\n",
       " 'Action,Indie',\n",
       " 'Adventure,RPG,Simulation,Strategy',\n",
       " 'Free to Play,Indie,Strategy',\n",
       " 'Casual,Free to Play,Indie',\n",
       " 'Free to Play',\n",
       " 'Action,Adventure,Casual,Indie,Simulation',\n",
       " 'Free to Play,Massively Multiplayer,RPG',\n",
       " 'Free to Play,Indie,Massively Multiplayer,RPG,Simulation,Strategy',\n",
       " 'Adventure,Indie,RPG',\n",
       " 'Action,Adventure',\n",
       " 'Action,RPG',\n",
       " 'Adventure,Casual,Free to Play,Indie,Simulation',\n",
       " 'Free to Play',\n",
       " 'Free to Play,Indie,Strategy',\n",
       " 'Free to Play',\n",
       " 'Indie,Strategy',\n",
       " 'Action,Indie',\n",
       " 'Adventure,Casual',\n",
       " 'Adventure,Casual',\n",
       " 'Indie,Racing',\n",
       " 'Action,Adventure,Indie,Massively Multiplayer,RPG,Simulation,Early Access',\n",
       " 'Action,Adventure,Indie',\n",
       " 'Casual,Indie',\n",
       " 'Adventure,Casual,Indie,RPG,Simulation',\n",
       " 'Action,Adventure',\n",
       " 'Racing,Simulation',\n",
       " 'Strategy,Early Access',\n",
       " 'Casual,Indie,Simulation,Strategy',\n",
       " 'Action',\n",
       " 'Action,Indie',\n",
       " 'Adventure,Casual,Free to Play,Indie',\n",
       " 'Action,Adventure,Indie,Simulation,Early Access',\n",
       " 'Action,Indie',\n",
       " 'Adventure',\n",
       " 'Action,Indie,RPG,Strategy',\n",
       " 'Adventure',\n",
       " 'Strategy,Simulation',\n",
       " 'Action,Adventure,Indie',\n",
       " 'Action,Adventure,Indie',\n",
       " 'Action,Adventure,Indie,RPG,Strategy',\n",
       " 'Action,Casual,Indie',\n",
       " 'Action,Indie',\n",
       " 'Action,Casual,Free to Play,Racing,Simulation,Sports',\n",
       " 'Casual,Indie',\n",
       " 'Action,Indie,RPG',\n",
       " 'RPG,Early Access',\n",
       " 'Adventure,Indie',\n",
       " 'RPG,Strategy,Early Access',\n",
       " 'Indie,RPG,Simulation',\n",
       " 'Action',\n",
       " 'Adventure,Casual,Indie,RPG',\n",
       " 'RPG',\n",
       " 'Simulation,Strategy,Early Access',\n",
       " 'Action,Adventure,RPG',\n",
       " 'Indie,Strategy',\n",
       " 'Action,Racing',\n",
       " 'Casual',\n",
       " 'Casual,Indie,Strategy',\n",
       " 'Action,RPG',\n",
       " 'Indie,RPG,Early Access',\n",
       " 'Sexual Content,Nudity,Violent,Action,Adventure,Indie',\n",
       " 'Action,Free to Play,Indie,Massively Multiplayer,RPG,Early Access',\n",
       " 'Action,Adventure,Indie,RPG',\n",
       " 'Adventure,Indie,Massively Multiplayer',\n",
       " 'Simulation',\n",
       " 'Casual,Indie,Simulation',\n",
       " 'Strategy',\n",
       " 'Action,Sports',\n",
       " 'Racing,Simulation,Sports',\n",
       " 'RPG',\n",
       " 'Action,Indie,Strategy',\n",
       " 'Adventure,Indie,RPG',\n",
       " 'Casual,Indie,Strategy',\n",
       " 'Action,Adventure,Casual,Indie',\n",
       " 'Adventure,Casual,Indie,RPG',\n",
       " 'Indie,Simulation,Strategy',\n",
       " 'Adventure',\n",
       " 'Action',\n",
       " 'Action,Indie,RPG,Simulation,Early Access',\n",
       " 'Action',\n",
       " 'Indie,Simulation',\n",
       " 'Indie,RPG',\n",
       " 'Free to Play,Massively Multiplayer,RPG',\n",
       " 'Adventure,Casual,Indie,RPG,Strategy',\n",
       " 'Adventure,Indie,Simulation,Strategy',\n",
       " 'Adventure,Indie,RPG,Strategy',\n",
       " 'Action',\n",
       " 'Action,Adventure,Indie,Massively Multiplayer,Early Access',\n",
       " 'Adventure,Casual,Indie,RPG,Strategy',\n",
       " 'Indie',\n",
       " 'Casual,Free to Play,Indie',\n",
       " 'Action,Adventure',\n",
       " 'Action',\n",
       " 'Adventure,Indie',\n",
       " 'Indie',\n",
       " 'Action',\n",
       " 'Adventure,Indie,RPG,Early Access',\n",
       " 'Action,Adventure,Casual,Indie,RPG',\n",
       " nan,\n",
       " 'Action',\n",
       " 'Casual',\n",
       " 'Indie,RPG,Strategy',\n",
       " 'Adventure,Indie',\n",
       " 'Indie',\n",
       " 'Violent,Gore,Adventure,Indie',\n",
       " 'Action,Adventure,Free to Play,Indie',\n",
       " 'Action,Indie,RPG',\n",
       " 'Action,Adventure,Casual,Indie,Massively Multiplayer,Racing,Early Access',\n",
       " 'Action,Indie,Massively Multiplayer,Strategy',\n",
       " 'Action,Indie',\n",
       " 'Action,Casual,Free to Play,Indie,Simulation,Strategy',\n",
       " 'Action,Adventure,Massively Multiplayer',\n",
       " 'Action,Adventure,Indie,RPG,Early Access',\n",
       " 'Action,Indie,Strategy',\n",
       " 'Indie,Simulation',\n",
       " 'Animation & Modeling,Design & Illustration,Utilities',\n",
       " 'Utilities',\n",
       " 'Action,Casual,Indie,Racing,Simulation,Sports',\n",
       " 'Indie,Simulation,Strategy,Early Access',\n",
       " 'Free to Play,Strategy,Early Access',\n",
       " 'Adventure,RPG',\n",
       " 'Action,RPG,Strategy',\n",
       " 'Action,Adventure',\n",
       " 'Adventure,Indie',\n",
       " 'Action,Adventure,Indie,Simulation',\n",
       " 'Action,Casual,Indie,Strategy',\n",
       " 'Adventure,Casual,Indie,RPG,Strategy',\n",
       " 'Adventure,Indie',\n",
       " 'RPG',\n",
       " 'Action,Indie',\n",
       " 'Action',\n",
       " 'Action',\n",
       " 'Action,Indie',\n",
       " 'Action,Adventure,Casual,Indie',\n",
       " 'Action,Indie',\n",
       " 'Adventure,Indie,RPG,Strategy',\n",
       " 'Casual,Indie,Simulation',\n",
       " 'Casual,Simulation,Strategy',\n",
       " 'Casual,Indie,Simulation,Strategy,Early Access',\n",
       " 'Action,Casual,Indie,Simulation,Sports',\n",
       " 'Casual,Indie,RPG,Simulation,Strategy',\n",
       " 'Action,Adventure',\n",
       " 'Action,Adventure,Indie',\n",
       " 'Sports',\n",
       " 'Action',\n",
       " 'Action,Indie,Simulation',\n",
       " 'Indie,RPG,Strategy',\n",
       " 'Action,Adventure,Casual,Indie',\n",
       " 'Adventure,RPG,Simulation,Strategy',\n",
       " 'Adventure,Indie,RPG',\n",
       " 'Action,Indie',\n",
       " 'Action,Casual,Indie',\n",
       " 'Simulation,Strategy',\n",
       " 'Action',\n",
       " 'Adventure,Indie',\n",
       " 'Action',\n",
       " 'Adventure,Casual',\n",
       " 'Casual,Indie',\n",
       " 'Casual,Indie,RPG',\n",
       " 'RPG',\n",
       " 'Casual,Indie',\n",
       " 'Adventure,Casual,Simulation',\n",
       " 'Action,Adventure,Casual,Indie',\n",
       " 'Adventure,Indie',\n",
       " 'Indie,RPG,Strategy',\n",
       " 'Adventure,Indie',\n",
       " 'Action,Adventure,Racing,Simulation',\n",
       " 'Action,Adventure,Casual,Indie',\n",
       " 'Action,Free to Play,Indie',\n",
       " 'Simulation',\n",
       " 'Casual,Indie',\n",
       " 'Free to Play,Indie,Simulation',\n",
       " 'Action,Adventure,Indie',\n",
       " 'Action,Adventure,Casual,Indie,Strategy',\n",
       " 'Action,Adventure,Casual,Free to Play,Indie,Massively Multiplayer,RPG',\n",
       " 'Adventure,Indie',\n",
       " 'Action,Adventure,Indie',\n",
       " 'Adventure',\n",
       " 'Casual,Strategy',\n",
       " 'Adventure,Casual,Indie,RPG,Strategy',\n",
       " 'Adventure,Casual,Indie,RPG,Simulation',\n",
       " 'Indie,Simulation,Strategy',\n",
       " 'Action,Adventure,Casual,Indie',\n",
       " 'Action,Free to Play,Indie,Strategy',\n",
       " 'Action,Indie,Simulation',\n",
       " 'Adventure,Indie,RPG',\n",
       " 'Action,Adventure,Casual,Indie',\n",
       " 'Action,Adventure',\n",
       " 'Action,Indie',\n",
       " 'Violent,Gore,Action,Free to Play',\n",
       " 'Action,Free to Play,Racing,Sports',\n",
       " 'Action,Free to Play,Massively Multiplayer',\n",
       " 'Action,Indie',\n",
       " 'Casual',\n",
       " 'Adventure',\n",
       " 'Adventure,Indie,Simulation',\n",
       " 'Adventure',\n",
       " 'Action,RPG',\n",
       " 'Action',\n",
       " 'Action,Casual',\n",
       " 'Casual,Indie,Racing,Simulation',\n",
       " 'Action,Indie,RPG',\n",
       " 'Action,Casual,Indie,Strategy',\n",
       " 'Action,Indie',\n",
       " 'Action',\n",
       " 'Adventure,Indie',\n",
       " 'Free to Play,Strategy,Early Access',\n",
       " 'Action,Adventure,Casual,Indie',\n",
       " 'Adventure,Indie,RPG,Strategy',\n",
       " 'Strategy',\n",
       " 'Action,Adventure,Indie,Early Access',\n",
       " 'Free to Play,Indie',\n",
       " 'Action,Indie',\n",
       " 'Indie,RPG,Simulation',\n",
       " 'Simulation',\n",
       " 'Indie,Simulation,Strategy,Early Access',\n",
       " 'Action',\n",
       " 'Casual,Indie',\n",
       " 'Simulation',\n",
       " 'Casual,Free to Play,Early Access',\n",
       " 'Action,Adventure,Casual,Indie,RPG',\n",
       " 'Casual,Indie,Simulation,Strategy',\n",
       " 'Indie,Racing',\n",
       " 'Action,Adventure,Casual,Indie,Early Access',\n",
       " 'Action,Free to Play,Indie',\n",
       " 'Action,Indie',\n",
       " 'Adventure,Casual,Indie',\n",
       " 'Action,Adventure,Casual,Indie',\n",
       " 'Action,Indie',\n",
       " 'Indie,RPG',\n",
       " 'Adventure,Indie,RPG',\n",
       " 'Casual,Indie',\n",
       " 'Action',\n",
       " 'Action,Indie',\n",
       " 'Action,Free to Play,Massively Multiplayer,RPG,Simulation,Strategy',\n",
       " 'Action,Adventure',\n",
       " 'Action,Casual,Free to Play',\n",
       " 'Adventure,Casual,Indie,Simulation',\n",
       " 'Simulation',\n",
       " 'Action,Indie,RPG',\n",
       " 'RPG',\n",
       " 'Casual,Indie',\n",
       " 'Action,Casual,Indie',\n",
       " 'Casual,Indie',\n",
       " 'Adventure',\n",
       " 'Indie',\n",
       " 'Adventure',\n",
       " 'Free to Play,Massively Multiplayer,RPG',\n",
       " 'Action,Indie',\n",
       " 'Adventure,Indie',\n",
       " 'Action,RPG',\n",
       " 'Action',\n",
       " 'Adventure,Casual',\n",
       " 'Adventure,Casual,Indie',\n",
       " 'Adventure,Indie,RPG',\n",
       " 'Action,Indie',\n",
       " 'Action,Adventure',\n",
       " 'Action,Indie,Massively Multiplayer,Early Access',\n",
       " 'Simulation,Strategy',\n",
       " 'Indie,Strategy',\n",
       " 'Adventure,Indie,Simulation',\n",
       " 'Free to Play,Simulation,Sports',\n",
       " 'Action,Casual,Indie',\n",
       " 'Adventure',\n",
       " 'Adventure,Indie',\n",
       " 'Action',\n",
       " 'Action,Indie',\n",
       " 'Action,Free to Play,Indie',\n",
       " 'Action,Free to Play,Indie,Early Access',\n",
       " 'Action,Adventure,RPG,Strategy',\n",
       " 'Action,Adventure,Indie,Simulation',\n",
       " 'Action,Massively Multiplayer,Racing,Simulation',\n",
       " 'Casual,Indie,RPG,Simulation',\n",
       " 'Simulation',\n",
       " 'Strategy,RPG,Indie',\n",
       " 'Free to Play,Indie',\n",
       " 'Indie,RPG,Simulation,Strategy,Early Access',\n",
       " 'RPG',\n",
       " 'Adventure,Casual,Free to Play,Indie,Strategy',\n",
       " 'Adventure,Casual',\n",
       " 'Casual,Indie',\n",
       " 'Adventure,Casual,Free to Play,Indie',\n",
       " 'Action,Adventure,Casual,Indie',\n",
       " 'Action',\n",
       " 'Racing,Simulation,Sports',\n",
       " 'Adventure,RPG,Strategy',\n",
       " 'Action,Indie',\n",
       " 'Action,Adventure,Racing,Sports,Strategy',\n",
       " 'Action,Indie',\n",
       " 'Action,Indie',\n",
       " 'Indie,Strategy,Early Access',\n",
       " 'Sports',\n",
       " 'Adventure,Casual,Indie',\n",
       " 'Simulation,Sports',\n",
       " 'Adventure,Indie,RPG',\n",
       " 'Action,Indie,Strategy',\n",
       " 'Adventure,Indie,RPG',\n",
       " 'Strategy',\n",
       " 'Indie,RPG',\n",
       " 'Action,Adventure,Indie,RPG',\n",
       " 'Adventure,Casual,Indie,RPG,Strategy',\n",
       " 'Action,Adventure,Simulation',\n",
       " 'Action',\n",
       " 'Action',\n",
       " 'Casual,Strategy',\n",
       " 'Indie,Simulation,Sports,Strategy',\n",
       " 'Indie',\n",
       " 'Action,Indie',\n",
       " 'Free to Play,Indie,Simulation,Early Access',\n",
       " 'Action,Indie,Early Access',\n",
       " 'Casual,Free to Play,Indie,Strategy',\n",
       " 'Adventure,Indie,RPG,Simulation,Strategy',\n",
       " 'Action,Casual,Indie,Racing,Simulation,Sports',\n",
       " 'Strategy',\n",
       " 'Adventure,Indie',\n",
       " 'Action,Adventure,Indie,Simulation,Early Access',\n",
       " 'Action',\n",
       " 'Indie,Simulation,Strategy',\n",
       " 'Free to Play',\n",
       " 'Action,Adventure,Indie,Massively Multiplayer,Early Access',\n",
       " 'Action,Adventure,Sports',\n",
       " 'Adventure,Indie',\n",
       " 'Action,Casual,Indie',\n",
       " 'Casual,Indie,Sports',\n",
       " 'Adventure,Casual,Free to Play,Indie,RPG',\n",
       " 'Casual',\n",
       " 'Adventure,Indie,Strategy',\n",
       " 'Action,Indie,Simulation',\n",
       " 'Action,Adventure,Indie',\n",
       " 'Action,Adventure,Casual,Indie',\n",
       " 'Simulation',\n",
       " 'Action,Adventure,Casual,Indie,Early Access',\n",
       " 'Indie',\n",
       " 'Action,Indie,RPG',\n",
       " 'Action,Adventure,Indie,Strategy',\n",
       " 'Action,Adventure,Indie',\n",
       " 'Action,Free to Play,Massively Multiplayer,Racing,Sports,Strategy',\n",
       " 'Adventure,Indie',\n",
       " 'Action,Indie',\n",
       " 'Indie,RPG,Simulation,Strategy',\n",
       " 'Indie,Strategy',\n",
       " 'Action,Adventure,Indie',\n",
       " 'Action,RPG,Strategy',\n",
       " 'Action,Indie',\n",
       " 'RPG',\n",
       " 'Action,Adventure,Indie',\n",
       " 'Action',\n",
       " 'Action,Indie,RPG,Strategy',\n",
       " 'Casual,Indie',\n",
       " 'Racing,Simulation,Sports,Strategy',\n",
       " 'Action,Adventure,Casual,Indie,Racing,Simulation',\n",
       " 'Action,Indie,Strategy',\n",
       " 'Action',\n",
       " 'Action,Casual,Indie',\n",
       " 'Adventure,Casual,Indie,RPG,Simulation,Strategy',\n",
       " 'Adventure,Indie',\n",
       " 'Action,Adventure,Indie,RPG,Simulation,Strategy',\n",
       " 'RPG',\n",
       " 'Adventure,Indie',\n",
       " 'Free to Play,Indie,Strategy',\n",
       " 'Action,Adventure,Indie',\n",
       " 'Action,Adventure,Casual,Indie',\n",
       " 'Action,RPG',\n",
       " 'Action,Indie',\n",
       " 'Simulation,Strategy',\n",
       " 'Action,Adventure,Casual,Indie,RPG',\n",
       " 'Adventure,Indie,RPG,Strategy',\n",
       " 'Action,Indie,RPG',\n",
       " 'Action,Free to Play,Massively Multiplayer',\n",
       " 'Adventure,Indie',\n",
       " 'Action,Casual,Indie',\n",
       " 'Action,Adventure',\n",
       " 'Action,Indie',\n",
       " 'Adventure,Casual,Indie',\n",
       " 'Free to Play',\n",
       " 'Adventure,Indie,Strategy',\n",
       " 'Action,Adventure,Indie',\n",
       " 'Action,Indie',\n",
       " 'Action,Casual,Indie,Simulation,Early Access',\n",
       " 'Indie',\n",
       " 'Adventure',\n",
       " 'Casual,Indie,Simulation,Sports,Strategy',\n",
       " 'Indie,Strategy,Early Access',\n",
       " 'Casual,Indie',\n",
       " 'Action,Indie,Strategy',\n",
       " 'Adventure,Free to Play,Indie,RPG',\n",
       " 'Action,Indie,RPG',\n",
       " 'Indie,RPG,Simulation,Strategy',\n",
       " 'Indie,Simulation',\n",
       " 'Action,Casual,Indie',\n",
       " 'Adventure,Casual,Indie,RPG',\n",
       " 'Adventure,Indie',\n",
       " 'Action,Adventure,Casual,Indie,Simulation,Sports',\n",
       " 'Action',\n",
       " 'Casual,Indie,Simulation',\n",
       " 'Casual,Indie,Strategy',\n",
       " 'Action,Adventure',\n",
       " 'Indie,Early Access',\n",
       " 'Casual,Indie',\n",
       " 'Action,Free to Play,Strategy',\n",
       " 'Action,Indie,RPG,Sports',\n",
       " 'Action,Casual,Indie',\n",
       " 'Indie',\n",
       " 'Action,Casual,RPG,Simulation,Early Access',\n",
       " 'Free to Play,Indie',\n",
       " 'Action,Adventure,Indie,RPG',\n",
       " 'RPG',\n",
       " 'Action,Racing',\n",
       " 'Indie',\n",
       " 'Casual,Indie',\n",
       " 'Action,Casual,Indie',\n",
       " 'Adventure,Casual,Indie,RPG',\n",
       " 'Indie,Strategy',\n",
       " 'Free to Play,Indie,Strategy',\n",
       " 'Adventure,Indie,Strategy',\n",
       " 'Adventure,Indie,Strategy',\n",
       " 'Action,Adventure,Indie,RPG',\n",
       " 'Casual,Indie',\n",
       " 'Utilities',\n",
       " 'Action,Indie',\n",
       " 'Indie',\n",
       " 'Action,Indie,Strategy',\n",
       " 'Action,Adventure,Indie',\n",
       " 'Free to Play',\n",
       " 'Strategy',\n",
       " 'Indie,Strategy',\n",
       " 'Action,Indie',\n",
       " 'Action,Indie',\n",
       " 'Action,Strategy',\n",
       " 'Action,Adventure,Indie',\n",
       " 'Adventure',\n",
       " 'Adventure,Indie',\n",
       " 'Action,Adventure,RPG',\n",
       " 'Action,Indie',\n",
       " 'Action,Indie',\n",
       " 'Indie',\n",
       " 'Action,Casual,Indie,Strategy,Early Access',\n",
       " 'Action,Adventure,Free to Play,Indie,Massively Multiplayer,RPG,Strategy',\n",
       " 'Adventure',\n",
       " 'Action,Adventure,Casual,Indie',\n",
       " 'Adventure,Casual,Indie,RPG,Simulation,Strategy',\n",
       " 'Adventure,Casual,Indie',\n",
       " 'Casual,Indie,RPG,Simulation',\n",
       " 'Action,Casual,Indie,RPG,Early Access',\n",
       " 'Action,Indie,RPG,Early Access',\n",
       " 'Adventure,Casual,Indie,RPG,Simulation',\n",
       " 'Casual,Indie',\n",
       " 'Adventure,Indie,Early Access',\n",
       " 'Action,Indie,RPG',\n",
       " 'Indie,RPG,Strategy',\n",
       " 'Simulation',\n",
       " 'Action,Indie',\n",
       " 'Adventure,Indie,RPG,Early Access',\n",
       " 'Action,Indie',\n",
       " 'Action,Free to Play',\n",
       " 'Indie',\n",
       " 'Casual,Free to Play,Indie',\n",
       " 'Action,Indie,Massively Multiplayer,Simulation,Early Access',\n",
       " 'Casual,Indie,RPG,Simulation',\n",
       " 'Casual,Indie,Massively Multiplayer,Strategy',\n",
       " 'Action,Adventure,Indie,RPG,Simulation',\n",
       " 'Action,Casual,Indie,Simulation,Strategy,Early Access',\n",
       " 'Action,RPG',\n",
       " 'Casual,Indie',\n",
       " 'Adventure,Casual,Indie',\n",
       " 'Action,Indie,RPG,Strategy',\n",
       " 'Action',\n",
       " 'Simulation',\n",
       " 'Adventure,Casual',\n",
       " 'Massively Multiplayer',\n",
       " 'Indie,Simulation,Strategy',\n",
       " 'Casual,Indie',\n",
       " 'Indie,RPG,Strategy',\n",
       " 'Action,Free to Play,Indie',\n",
       " 'Action,Adventure,Indie,RPG',\n",
       " 'Action,Adventure,Casual,Indie,Simulation',\n",
       " 'Adventure,Casual,Indie',\n",
       " 'Action',\n",
       " 'Action,Adventure,Indie',\n",
       " 'Action,Casual,Indie',\n",
       " 'Action,Indie',\n",
       " 'Adventure,Casual,Free to Play,Indie',\n",
       " 'Action,Casual,Indie,Sports',\n",
       " 'Indie,RPG,Strategy',\n",
       " 'Action,Indie',\n",
       " 'Action,Adventure,Casual,Indie',\n",
       " 'Free to Play,Massively Multiplayer,Strategy',\n",
       " 'Indie,Early Access',\n",
       " 'Action,Adventure,Indie,Massively Multiplayer,RPG',\n",
       " 'Indie',\n",
       " 'Action,Indie,Simulation',\n",
       " 'RPG',\n",
       " 'Adventure,Casual,Free to Play,Indie,Strategy',\n",
       " 'Adventure,Indie,RPG,Strategy',\n",
       " 'Action,Free to Play,Indie',\n",
       " 'Adventure,RPG,Strategy',\n",
       " 'Action,Free to Play,Indie',\n",
       " 'Indie,Simulation',\n",
       " 'Action,Adventure,Indie,Simulation',\n",
       " 'Action,Adventure,Indie',\n",
       " 'Action,Adventure,Indie,RPG',\n",
       " 'Action,Indie,Strategy',\n",
       " 'Casual,Indie',\n",
       " 'Action,Indie',\n",
       " 'Action,Adventure,RPG',\n",
       " 'Action,Indie',\n",
       " 'Action,Indie',\n",
       " 'Indie,RPG',\n",
       " 'Action,Adventure,Free to Play,Indie',\n",
       " 'Indie',\n",
       " 'Action,Adventure,Indie',\n",
       " 'Action,Adventure,Casual,Indie,Simulation',\n",
       " 'Action,Free to Play,Early Access',\n",
       " 'Adventure,Casual',\n",
       " 'Casual,Indie',\n",
       " 'Massively Multiplayer,RPG,Strategy',\n",
       " 'Adventure,Casual,Free to Play,Indie',\n",
       " 'Action,Indie',\n",
       " 'Action,Adventure,Indie,RPG,Simulation',\n",
       " 'Action,Casual,Free to Play,Indie',\n",
       " 'Strategy',\n",
       " 'Action,Adventure,Indie',\n",
       " 'Action,Adventure,Indie,RPG,Simulation,Strategy',\n",
       " 'Action,Adventure,Indie',\n",
       " 'Action,Adventure,Indie,Massively Multiplayer,RPG',\n",
       " 'Indie',\n",
       " 'Adventure,Casual,Free to Play,Indie,RPG',\n",
       " 'Indie,Simulation,Strategy',\n",
       " 'Action,Adventure,Free to Play',\n",
       " 'Action,Adventure,Indie',\n",
       " 'Action',\n",
       " 'Action,Indie',\n",
       " 'Adventure,Indie',\n",
       " 'Action,RPG',\n",
       " 'Adventure,Indie,RPG,Simulation,Early Access',\n",
       " 'Action,Adventure,Indie,RPG',\n",
       " 'Action,Indie',\n",
       " 'Action,Indie,RPG',\n",
       " 'Adventure',\n",
       " 'Casual,Free to Play',\n",
       " 'Action',\n",
       " 'Action,Indie',\n",
       " 'Free to Play,Racing,Sports',\n",
       " 'Action,Adventure,Indie',\n",
       " 'Action,Adventure,Indie,RPG,Simulation,Early Access',\n",
       " 'Casual,Strategy',\n",
       " 'Action,Adventure,Casual,Indie,RPG,Simulation',\n",
       " 'Casual,Indie',\n",
       " 'Casual,Indie,RPG,Simulation',\n",
       " 'Casual,Indie,Strategy',\n",
       " 'Strategy',\n",
       " 'Action,Casual,Indie',\n",
       " 'Adventure,Indie,RPG',\n",
       " 'Casual,Indie',\n",
       " 'Indie,Simulation,Strategy,Early Access',\n",
       " 'Adventure,Casual,Indie',\n",
       " 'Strategy',\n",
       " 'Casual,Indie,RPG',\n",
       " 'Action,Indie,Sports',\n",
       " 'Action,Casual,Sports,Strategy',\n",
       " 'Adventure,Free to Play,Indie,Massively Multiplayer,RPG,Early Access',\n",
       " 'Action,Adventure,Indie,Simulation,Strategy',\n",
       " 'Action,Adventure,Indie,RPG,Strategy,Early Access',\n",
       " 'Action,Adventure,Casual,Indie',\n",
       " 'Action,Indie',\n",
       " 'Action,Adventure,Casual,Indie,Massively Multiplayer,RPG,Simulation,Strategy',\n",
       " 'Action,Adventure,Indie,RPG,Early Access',\n",
       " 'Indie,Simulation,Strategy',\n",
       " 'Action',\n",
       " 'Casual',\n",
       " 'Action,Adventure,Casual,Indie,Simulation,Strategy',\n",
       " 'Action,RPG',\n",
       " 'Action',\n",
       " 'Action,Indie',\n",
       " 'Violent,Adventure,Casual,Indie,Simulation',\n",
       " 'Action,Adventure',\n",
       " 'Strategy',\n",
       " 'Adventure,Indie,RPG',\n",
       " 'Adventure,Casual,Indie,RPG',\n",
       " 'Adventure,Indie,RPG',\n",
       " 'Action,Adventure',\n",
       " 'Casual,Indie',\n",
       " 'Action,Adventure,Indie,RPG',\n",
       " 'Action,Casual,Free to Play,Indie',\n",
       " 'Adventure,Indie',\n",
       " 'Action,Adventure,Free to Play',\n",
       " 'Action,Indie,Sports',\n",
       " 'Indie',\n",
       " 'Indie,RPG',\n",
       " 'Adventure,Casual,Free to Play,RPG',\n",
       " 'Adventure,Casual',\n",
       " 'Racing,Simulation',\n",
       " 'Casual,Indie,Strategy',\n",
       " 'Indie',\n",
       " 'Action,Adventure,Indie,RPG,Simulation',\n",
       " 'Free to Play,Indie,RPG',\n",
       " 'Action,Adventure,Free to Play,Indie,RPG,Early Access',\n",
       " 'Indie,Simulation,Strategy',\n",
       " 'Indie',\n",
       " 'Action,Casual,Indie',\n",
       " 'Casual,Free to Play,Indie,Simulation,Sports,Strategy',\n",
       " 'Action,Adventure,Casual,Indie,Massively Multiplayer,Racing,RPG,Strategy,Early Access',\n",
       " 'Free to Play',\n",
       " 'Adventure,Indie,RPG,Strategy',\n",
       " 'Casual,Free to Play,Simulation',\n",
       " 'Action,Indie',\n",
       " 'Action,Adventure,RPG',\n",
       " 'Action,Indie,Simulation',\n",
       " 'Action,Casual,Free to Play,Indie,Massively Multiplayer,RPG,Simulation,Strategy',\n",
       " 'Action,Adventure,Indie',\n",
       " 'Action,Adventure,Indie,RPG,Simulation,Early Access',\n",
       " 'Casual,Free to Play,Massively Multiplayer',\n",
       " 'Action',\n",
       " 'Action,Adventure,Indie,RPG',\n",
       " 'Action',\n",
       " 'Casual,Indie',\n",
       " 'Indie,RPG',\n",
       " 'Action,Adventure,Indie',\n",
       " 'Action,Adventure,Indie',\n",
       " 'Adventure,Indie,RPG,Strategy',\n",
       " 'Action',\n",
       " 'Action,Adventure,Indie',\n",
       " 'Action,Adventure',\n",
       " 'Adventure,Casual',\n",
       " 'Adventure,Casual,Indie,RPG,Strategy',\n",
       " 'Indie',\n",
       " 'Adventure,Casual',\n",
       " 'Action,Indie',\n",
       " 'Action,Adventure',\n",
       " 'Action,Adventure,Indie,Massively Multiplayer,RPG,Strategy',\n",
       " 'Adventure,Indie',\n",
       " 'Action,Adventure,Indie',\n",
       " 'Adventure,Indie',\n",
       " 'Utilities',\n",
       " 'Action,Adventure,Indie',\n",
       " 'Casual,Indie,Sports',\n",
       " 'Action,Adventure,Indie',\n",
       " 'Action,Indie',\n",
       " 'Casual,Indie,Strategy',\n",
       " 'RPG,Strategy',\n",
       " 'Action,Adventure,Indie',\n",
       " 'Action,Adventure,Casual,Indie,Strategy',\n",
       " 'Action,Adventure,Indie,Simulation',\n",
       " 'Indie,Simulation,Strategy',\n",
       " 'Casual',\n",
       " 'Action',\n",
       " 'Adventure,Indie',\n",
       " 'Adventure,Casual,Indie,RPG,Strategy',\n",
       " 'Strategy',\n",
       " 'Action,RPG',\n",
       " 'Action,Free to Play,Indie',\n",
       " 'Action,Casual,Simulation',\n",
       " 'Adventure,Indie,RPG,Strategy',\n",
       " 'Adventure,Casual,Indie',\n",
       " 'Free to Play,Indie,Massively Multiplayer,Strategy',\n",
       " 'Indie,Simulation,Strategy',\n",
       " 'RPG',\n",
       " 'Action,Indie,RPG',\n",
       " 'Action,Casual,Indie',\n",
       " 'Action,Indie,Massively Multiplayer,RPG,Strategy,Early Access',\n",
       " 'Action,Indie,Strategy',\n",
       " 'Strategy',\n",
       " 'Casual,Indie',\n",
       " 'Strategy',\n",
       " 'Action,Casual,Free to Play,Indie',\n",
       " 'Action,Indie',\n",
       " 'Adventure,Casual,Indie',\n",
       " 'Action,Adventure',\n",
       " 'Action,Adventure',\n",
       " 'Action,Indie',\n",
       " 'Adventure,RPG',\n",
       " 'Adventure,RPG,Strategy',\n",
       " 'Action,Adventure,Casual,Indie,RPG,Simulation,Strategy',\n",
       " 'Action,Casual,Indie',\n",
       " 'Indie,Simulation,Early Access',\n",
       " 'Strategy',\n",
       " 'Casual',\n",
       " 'Casual,Indie',\n",
       " 'Action,Indie',\n",
       " 'Action',\n",
       " 'Adventure,Casual,RPG,Simulation,Strategy',\n",
       " 'Action,Indie',\n",
       " 'Action',\n",
       " 'Simulation',\n",
       " 'Casual,Indie,Simulation',\n",
       " 'Indie,Strategy',\n",
       " 'Adventure,Indie,RPG',\n",
       " 'Action,RPG,Strategy',\n",
       " 'Action',\n",
       " 'Action,Adventure,Indie,Massively Multiplayer,Simulation',\n",
       " 'Casual,Indie',\n",
       " 'Adventure,Casual',\n",
       " 'Action',\n",
       " 'Indie,RPG,Strategy',\n",
       " 'Indie',\n",
       " 'Adventure,Indie',\n",
       " 'Adventure,Casual,Indie',\n",
       " 'Indie,Strategy',\n",
       " 'Strategy',\n",
       " 'Action',\n",
       " 'Casual,Indie,Simulation,Strategy',\n",
       " 'Casual,Strategy',\n",
       " 'Adventure,Indie,RPG',\n",
       " 'Casual,RPG',\n",
       " 'Action,Adventure,Indie',\n",
       " 'Action,Indie',\n",
       " 'Indie,Simulation,Strategy',\n",
       " 'Indie,Strategy',\n",
       " 'Strategy',\n",
       " 'Action,Casual,Indie',\n",
       " 'Indie,RPG,Strategy',\n",
       " 'Adventure,Indie',\n",
       " 'Action,Indie',\n",
       " 'Action,Indie',\n",
       " 'Free to Play,Massively Multiplayer,Strategy',\n",
       " 'Adventure,Casual',\n",
       " 'Indie,RPG',\n",
       " 'Action',\n",
       " 'Action,Indie',\n",
       " 'RPG',\n",
       " 'Indie,Simulation',\n",
       " 'Casual,Free to Play,Indie,Simulation',\n",
       " 'Adventure,Casual',\n",
       " 'Action,Indie',\n",
       " 'Action,Adventure,Free to Play,Indie',\n",
       " 'Casual',\n",
       " 'Action,Indie',\n",
       " 'Action,Casual',\n",
       " 'Strategy',\n",
       " 'Adventure,RPG,Simulation,Strategy',\n",
       " 'Adventure,Casual,Indie,Simulation',\n",
       " 'Free to Play,RPG,Strategy',\n",
       " 'Action,Indie,RPG,Strategy',\n",
       " 'Action,Indie',\n",
       " 'RPG,Indie',\n",
       " 'Simulation,Strategy',\n",
       " 'Action,Adventure,Indie',\n",
       " ...]"
      ]
     },
     "execution_count": 64,
     "metadata": {},
     "output_type": "execute_result"
    }
   ],
   "source": []
  }
 ],
 "metadata": {
  "kernelspec": {
   "display_name": "Python 3 (ipykernel)",
   "language": "python",
   "name": "python3"
  },
  "language_info": {
   "codemirror_mode": {
    "name": "ipython",
    "version": 3
   },
   "file_extension": ".py",
   "mimetype": "text/x-python",
   "name": "python",
   "nbconvert_exporter": "python",
   "pygments_lexer": "ipython3",
   "version": "3.11.4"
  }
 },
 "nbformat": 4,
 "nbformat_minor": 5
}
