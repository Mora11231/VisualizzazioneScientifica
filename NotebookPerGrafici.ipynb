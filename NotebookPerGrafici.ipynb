{
 "cells": [
  {
   "cell_type": "code",
   "execution_count": 20,
   "id": "46d6e6db",
   "metadata": {},
   "outputs": [
    {
     "data": {
      "application/vnd.plotly.v1+json": {
       "config": {
        "plotlyServerURL": "https://plot.ly"
       },
       "data": [
        {
         "marker": {
          "color": "#253494"
         },
         "name": "Numero di owner",
         "type": "bar",
         "x": [
          2003,
          2004,
          2005,
          2006,
          2007,
          2008,
          2009,
          2010,
          2011,
          2012,
          2013,
          2014,
          2015,
          2016,
          2017,
          2018,
          2019,
          2020,
          2021,
          2022
         ],
         "y": [
          85289883,
          71759016,
          37035831,
          74463320,
          154935393,
          74334918,
          160526330,
          136322029,
          223307133,
          327405327,
          573399821,
          452048289,
          602903401,
          655755110,
          717315679,
          630763907,
          502916798,
          596780286,
          573581908,
          315520370
         ]
        },
        {
         "line": {
          "color": "#2c7fb8",
          "width": 4
         },
         "marker": {
          "color": "white",
          "line": {
           "color": "#2c7fb8",
           "width": 2
          },
          "size": 12
         },
         "mode": "markers+lines",
         "name": "Numero di Acqusiti cumulativa",
         "type": "scatter",
         "x": [
          2003,
          2004,
          2005,
          2006,
          2007,
          2008,
          2009,
          2010,
          2011,
          2012,
          2013,
          2014,
          2015,
          2016,
          2017,
          2018,
          2019,
          2020,
          2021,
          2022
         ],
         "y": [
          85289883,
          157048899,
          194084730,
          268548050,
          423483443,
          497818361,
          658344691,
          794666720,
          1017973853,
          1345379180,
          1918779001,
          2370827290,
          2973730691,
          3629485801,
          4346801480,
          4977565387,
          5480482185,
          6077262471,
          6650844379,
          6966364749
         ]
        }
       ],
       "layout": {
        "font": {
         "color": "#000000",
         "family": "Calibri",
         "size": 15
        },
        "legend": {
         "bgcolor": "white",
         "title": {
          "text": "Legenda:"
         }
        },
        "plot_bgcolor": "#ffffff",
        "template": {
         "data": {
          "bar": [
           {
            "error_x": {
             "color": "#2a3f5f"
            },
            "error_y": {
             "color": "#2a3f5f"
            },
            "marker": {
             "line": {
              "color": "white",
              "width": 0.5
             },
             "pattern": {
              "fillmode": "overlay",
              "size": 10,
              "solidity": 0.2
             }
            },
            "type": "bar"
           }
          ],
          "barpolar": [
           {
            "marker": {
             "line": {
              "color": "white",
              "width": 0.5
             },
             "pattern": {
              "fillmode": "overlay",
              "size": 10,
              "solidity": 0.2
             }
            },
            "type": "barpolar"
           }
          ],
          "carpet": [
           {
            "aaxis": {
             "endlinecolor": "#2a3f5f",
             "gridcolor": "#C8D4E3",
             "linecolor": "#C8D4E3",
             "minorgridcolor": "#C8D4E3",
             "startlinecolor": "#2a3f5f"
            },
            "baxis": {
             "endlinecolor": "#2a3f5f",
             "gridcolor": "#C8D4E3",
             "linecolor": "#C8D4E3",
             "minorgridcolor": "#C8D4E3",
             "startlinecolor": "#2a3f5f"
            },
            "type": "carpet"
           }
          ],
          "choropleth": [
           {
            "colorbar": {
             "outlinewidth": 0,
             "ticks": ""
            },
            "type": "choropleth"
           }
          ],
          "contour": [
           {
            "colorbar": {
             "outlinewidth": 0,
             "ticks": ""
            },
            "colorscale": [
             [
              0,
              "#0d0887"
             ],
             [
              0.1111111111111111,
              "#46039f"
             ],
             [
              0.2222222222222222,
              "#7201a8"
             ],
             [
              0.3333333333333333,
              "#9c179e"
             ],
             [
              0.4444444444444444,
              "#bd3786"
             ],
             [
              0.5555555555555556,
              "#d8576b"
             ],
             [
              0.6666666666666666,
              "#ed7953"
             ],
             [
              0.7777777777777778,
              "#fb9f3a"
             ],
             [
              0.8888888888888888,
              "#fdca26"
             ],
             [
              1,
              "#f0f921"
             ]
            ],
            "type": "contour"
           }
          ],
          "contourcarpet": [
           {
            "colorbar": {
             "outlinewidth": 0,
             "ticks": ""
            },
            "type": "contourcarpet"
           }
          ],
          "heatmap": [
           {
            "colorbar": {
             "outlinewidth": 0,
             "ticks": ""
            },
            "colorscale": [
             [
              0,
              "#0d0887"
             ],
             [
              0.1111111111111111,
              "#46039f"
             ],
             [
              0.2222222222222222,
              "#7201a8"
             ],
             [
              0.3333333333333333,
              "#9c179e"
             ],
             [
              0.4444444444444444,
              "#bd3786"
             ],
             [
              0.5555555555555556,
              "#d8576b"
             ],
             [
              0.6666666666666666,
              "#ed7953"
             ],
             [
              0.7777777777777778,
              "#fb9f3a"
             ],
             [
              0.8888888888888888,
              "#fdca26"
             ],
             [
              1,
              "#f0f921"
             ]
            ],
            "type": "heatmap"
           }
          ],
          "heatmapgl": [
           {
            "colorbar": {
             "outlinewidth": 0,
             "ticks": ""
            },
            "colorscale": [
             [
              0,
              "#0d0887"
             ],
             [
              0.1111111111111111,
              "#46039f"
             ],
             [
              0.2222222222222222,
              "#7201a8"
             ],
             [
              0.3333333333333333,
              "#9c179e"
             ],
             [
              0.4444444444444444,
              "#bd3786"
             ],
             [
              0.5555555555555556,
              "#d8576b"
             ],
             [
              0.6666666666666666,
              "#ed7953"
             ],
             [
              0.7777777777777778,
              "#fb9f3a"
             ],
             [
              0.8888888888888888,
              "#fdca26"
             ],
             [
              1,
              "#f0f921"
             ]
            ],
            "type": "heatmapgl"
           }
          ],
          "histogram": [
           {
            "marker": {
             "pattern": {
              "fillmode": "overlay",
              "size": 10,
              "solidity": 0.2
             }
            },
            "type": "histogram"
           }
          ],
          "histogram2d": [
           {
            "colorbar": {
             "outlinewidth": 0,
             "ticks": ""
            },
            "colorscale": [
             [
              0,
              "#0d0887"
             ],
             [
              0.1111111111111111,
              "#46039f"
             ],
             [
              0.2222222222222222,
              "#7201a8"
             ],
             [
              0.3333333333333333,
              "#9c179e"
             ],
             [
              0.4444444444444444,
              "#bd3786"
             ],
             [
              0.5555555555555556,
              "#d8576b"
             ],
             [
              0.6666666666666666,
              "#ed7953"
             ],
             [
              0.7777777777777778,
              "#fb9f3a"
             ],
             [
              0.8888888888888888,
              "#fdca26"
             ],
             [
              1,
              "#f0f921"
             ]
            ],
            "type": "histogram2d"
           }
          ],
          "histogram2dcontour": [
           {
            "colorbar": {
             "outlinewidth": 0,
             "ticks": ""
            },
            "colorscale": [
             [
              0,
              "#0d0887"
             ],
             [
              0.1111111111111111,
              "#46039f"
             ],
             [
              0.2222222222222222,
              "#7201a8"
             ],
             [
              0.3333333333333333,
              "#9c179e"
             ],
             [
              0.4444444444444444,
              "#bd3786"
             ],
             [
              0.5555555555555556,
              "#d8576b"
             ],
             [
              0.6666666666666666,
              "#ed7953"
             ],
             [
              0.7777777777777778,
              "#fb9f3a"
             ],
             [
              0.8888888888888888,
              "#fdca26"
             ],
             [
              1,
              "#f0f921"
             ]
            ],
            "type": "histogram2dcontour"
           }
          ],
          "mesh3d": [
           {
            "colorbar": {
             "outlinewidth": 0,
             "ticks": ""
            },
            "type": "mesh3d"
           }
          ],
          "parcoords": [
           {
            "line": {
             "colorbar": {
              "outlinewidth": 0,
              "ticks": ""
             }
            },
            "type": "parcoords"
           }
          ],
          "pie": [
           {
            "automargin": true,
            "type": "pie"
           }
          ],
          "scatter": [
           {
            "fillpattern": {
             "fillmode": "overlay",
             "size": 10,
             "solidity": 0.2
            },
            "type": "scatter"
           }
          ],
          "scatter3d": [
           {
            "line": {
             "colorbar": {
              "outlinewidth": 0,
              "ticks": ""
             }
            },
            "marker": {
             "colorbar": {
              "outlinewidth": 0,
              "ticks": ""
             }
            },
            "type": "scatter3d"
           }
          ],
          "scattercarpet": [
           {
            "marker": {
             "colorbar": {
              "outlinewidth": 0,
              "ticks": ""
             }
            },
            "type": "scattercarpet"
           }
          ],
          "scattergeo": [
           {
            "marker": {
             "colorbar": {
              "outlinewidth": 0,
              "ticks": ""
             }
            },
            "type": "scattergeo"
           }
          ],
          "scattergl": [
           {
            "marker": {
             "colorbar": {
              "outlinewidth": 0,
              "ticks": ""
             }
            },
            "type": "scattergl"
           }
          ],
          "scattermapbox": [
           {
            "marker": {
             "colorbar": {
              "outlinewidth": 0,
              "ticks": ""
             }
            },
            "type": "scattermapbox"
           }
          ],
          "scatterpolar": [
           {
            "marker": {
             "colorbar": {
              "outlinewidth": 0,
              "ticks": ""
             }
            },
            "type": "scatterpolar"
           }
          ],
          "scatterpolargl": [
           {
            "marker": {
             "colorbar": {
              "outlinewidth": 0,
              "ticks": ""
             }
            },
            "type": "scatterpolargl"
           }
          ],
          "scatterternary": [
           {
            "marker": {
             "colorbar": {
              "outlinewidth": 0,
              "ticks": ""
             }
            },
            "type": "scatterternary"
           }
          ],
          "surface": [
           {
            "colorbar": {
             "outlinewidth": 0,
             "ticks": ""
            },
            "colorscale": [
             [
              0,
              "#0d0887"
             ],
             [
              0.1111111111111111,
              "#46039f"
             ],
             [
              0.2222222222222222,
              "#7201a8"
             ],
             [
              0.3333333333333333,
              "#9c179e"
             ],
             [
              0.4444444444444444,
              "#bd3786"
             ],
             [
              0.5555555555555556,
              "#d8576b"
             ],
             [
              0.6666666666666666,
              "#ed7953"
             ],
             [
              0.7777777777777778,
              "#fb9f3a"
             ],
             [
              0.8888888888888888,
              "#fdca26"
             ],
             [
              1,
              "#f0f921"
             ]
            ],
            "type": "surface"
           }
          ],
          "table": [
           {
            "cells": {
             "fill": {
              "color": "#EBF0F8"
             },
             "line": {
              "color": "white"
             }
            },
            "header": {
             "fill": {
              "color": "#C8D4E3"
             },
             "line": {
              "color": "white"
             }
            },
            "type": "table"
           }
          ]
         },
         "layout": {
          "annotationdefaults": {
           "arrowcolor": "#2a3f5f",
           "arrowhead": 0,
           "arrowwidth": 1
          },
          "autotypenumbers": "strict",
          "coloraxis": {
           "colorbar": {
            "outlinewidth": 0,
            "ticks": ""
           }
          },
          "colorscale": {
           "diverging": [
            [
             0,
             "#8e0152"
            ],
            [
             0.1,
             "#c51b7d"
            ],
            [
             0.2,
             "#de77ae"
            ],
            [
             0.3,
             "#f1b6da"
            ],
            [
             0.4,
             "#fde0ef"
            ],
            [
             0.5,
             "#f7f7f7"
            ],
            [
             0.6,
             "#e6f5d0"
            ],
            [
             0.7,
             "#b8e186"
            ],
            [
             0.8,
             "#7fbc41"
            ],
            [
             0.9,
             "#4d9221"
            ],
            [
             1,
             "#276419"
            ]
           ],
           "sequential": [
            [
             0,
             "#0d0887"
            ],
            [
             0.1111111111111111,
             "#46039f"
            ],
            [
             0.2222222222222222,
             "#7201a8"
            ],
            [
             0.3333333333333333,
             "#9c179e"
            ],
            [
             0.4444444444444444,
             "#bd3786"
            ],
            [
             0.5555555555555556,
             "#d8576b"
            ],
            [
             0.6666666666666666,
             "#ed7953"
            ],
            [
             0.7777777777777778,
             "#fb9f3a"
            ],
            [
             0.8888888888888888,
             "#fdca26"
            ],
            [
             1,
             "#f0f921"
            ]
           ],
           "sequentialminus": [
            [
             0,
             "#0d0887"
            ],
            [
             0.1111111111111111,
             "#46039f"
            ],
            [
             0.2222222222222222,
             "#7201a8"
            ],
            [
             0.3333333333333333,
             "#9c179e"
            ],
            [
             0.4444444444444444,
             "#bd3786"
            ],
            [
             0.5555555555555556,
             "#d8576b"
            ],
            [
             0.6666666666666666,
             "#ed7953"
            ],
            [
             0.7777777777777778,
             "#fb9f3a"
            ],
            [
             0.8888888888888888,
             "#fdca26"
            ],
            [
             1,
             "#f0f921"
            ]
           ]
          },
          "colorway": [
           "#636efa",
           "#EF553B",
           "#00cc96",
           "#ab63fa",
           "#FFA15A",
           "#19d3f3",
           "#FF6692",
           "#B6E880",
           "#FF97FF",
           "#FECB52"
          ],
          "font": {
           "color": "#2a3f5f"
          },
          "geo": {
           "bgcolor": "white",
           "lakecolor": "white",
           "landcolor": "white",
           "showlakes": true,
           "showland": true,
           "subunitcolor": "#C8D4E3"
          },
          "hoverlabel": {
           "align": "left"
          },
          "hovermode": "closest",
          "mapbox": {
           "style": "light"
          },
          "paper_bgcolor": "white",
          "plot_bgcolor": "white",
          "polar": {
           "angularaxis": {
            "gridcolor": "#EBF0F8",
            "linecolor": "#EBF0F8",
            "ticks": ""
           },
           "bgcolor": "white",
           "radialaxis": {
            "gridcolor": "#EBF0F8",
            "linecolor": "#EBF0F8",
            "ticks": ""
           }
          },
          "scene": {
           "xaxis": {
            "backgroundcolor": "white",
            "gridcolor": "#DFE8F3",
            "gridwidth": 2,
            "linecolor": "#EBF0F8",
            "showbackground": true,
            "ticks": "",
            "zerolinecolor": "#EBF0F8"
           },
           "yaxis": {
            "backgroundcolor": "white",
            "gridcolor": "#DFE8F3",
            "gridwidth": 2,
            "linecolor": "#EBF0F8",
            "showbackground": true,
            "ticks": "",
            "zerolinecolor": "#EBF0F8"
           },
           "zaxis": {
            "backgroundcolor": "white",
            "gridcolor": "#DFE8F3",
            "gridwidth": 2,
            "linecolor": "#EBF0F8",
            "showbackground": true,
            "ticks": "",
            "zerolinecolor": "#EBF0F8"
           }
          },
          "shapedefaults": {
           "line": {
            "color": "#2a3f5f"
           }
          },
          "ternary": {
           "aaxis": {
            "gridcolor": "#DFE8F3",
            "linecolor": "#A2B1C6",
            "ticks": ""
           },
           "baxis": {
            "gridcolor": "#DFE8F3",
            "linecolor": "#A2B1C6",
            "ticks": ""
           },
           "bgcolor": "white",
           "caxis": {
            "gridcolor": "#DFE8F3",
            "linecolor": "#A2B1C6",
            "ticks": ""
           }
          },
          "title": {
           "x": 0.05
          },
          "xaxis": {
           "automargin": true,
           "gridcolor": "#EBF0F8",
           "linecolor": "#EBF0F8",
           "ticks": "",
           "title": {
            "standoff": 15
           },
           "zerolinecolor": "#EBF0F8",
           "zerolinewidth": 2
          },
          "yaxis": {
           "automargin": true,
           "gridcolor": "#EBF0F8",
           "linecolor": "#EBF0F8",
           "ticks": "",
           "title": {
            "standoff": 15
           },
           "zerolinecolor": "#EBF0F8",
           "zerolinewidth": 2
          }
         }
        },
        "xaxis": {
         "gridwidth": 2,
         "linecolor": "black",
         "linewidth": 2,
         "showgrid": true,
         "tickmode": "array",
         "ticktext": [
          ">=2003",
          2004,
          2005,
          2006,
          2007,
          2008,
          2009,
          2010,
          2011,
          2012,
          2013,
          2014,
          2015,
          2016,
          2017,
          2018,
          2019,
          2020,
          2021,
          2022
         ],
         "tickvals": [
          2003,
          2004,
          2005,
          2006,
          2007,
          2008,
          2009,
          2010,
          2011,
          2012,
          2013,
          2014,
          2015,
          2016,
          2017,
          2018,
          2019,
          2020,
          2021,
          2022
         ],
         "title": {
          "text": "Anni"
         }
        },
        "yaxis": {
         "dtick": 500000000,
         "gridwidth": 2,
         "linecolor": "black",
         "linewidth": 2,
         "range": [
          0,
          7100000000
         ],
         "showgrid": true,
         "title": {
          "text": "Numero di Acquisti"
         }
        }
       }
      }
     },
     "metadata": {},
     "output_type": "display_data"
    }
   ],
   "source": [
    "import pandas as pd\n",
    "import plotly.graph_objs as go\n",
    "import plotly.express as px\n",
    "import numpy as np\n",
    "\n",
    "\n",
    "\n",
    "\n",
    "def valoreOwnerStimatoD(x,y):\n",
    "    a = x.split()\n",
    "    return int(int(a[0]) + int(a[2]))/2 + y\n",
    "\n",
    "def graficoBarrePerEstimated():\n",
    "    df = pd.read_csv('CodicePerGrafici/fileAggiornato.csv')\n",
    "    df['Estimated owners'] =  df.apply(lambda x:valoreOwnerStimatoD(x['Estimated owners'],x['Peak CCU']),axis=1)\n",
    "    df['Release date'] = df['Release date'].astype('datetime64[ns]')\n",
    "    df['year'] = df['Release date'].apply(lambda x: x.year)\n",
    "\n",
    "    df = df[['Estimated owners','year']].groupby('year').sum()\n",
    "    df = df['Estimated owners']\n",
    "\n",
    "    sum_df = df.cumsum()\n",
    "    df[2003] = sum_df[2003]\n",
    "\n",
    "    fig = go.Figure()\n",
    "\n",
    "    graph1 = go.Bar(\n",
    "        x=df.index[6:-1],\n",
    "        y=df[6:-1],\n",
    "        marker=dict(\n",
    "            color='#253494' \n",
    "            ),\n",
    "        name =\"Numero di owner\"\n",
    "        )\n",
    "    \n",
    "    graph2 = go.Scatter(\n",
    "        x=sum_df.index[6:-1],\n",
    "        y= sum_df[6:-1],\n",
    "        line={'width': 4, 'color':'#2c7fb8'},\n",
    "        marker=dict(\n",
    "                size=12,\n",
    "                line={'width': 2, 'color':'#2c7fb8'},\n",
    "                color='white' \n",
    "\n",
    "            ),\n",
    "        mode=\"markers+lines\",\n",
    "        name =\"Numero di Acqusiti cumulativa\"\n",
    "        )\n",
    "    \n",
    "\n",
    "    fig.add_trace(graph1)\n",
    "    fig.add_trace(graph2)\n",
    "\n",
    "    fig.update_layout(\n",
    "        template=\"plotly_white\",\n",
    "        font_family=\"Calibri\",\n",
    "        xaxis_title=\"Anni\",\n",
    "        yaxis_title=\"Numero di Acquisti\",\n",
    "\n",
    "        plot_bgcolor = '#ffffff',\n",
    "\n",
    "        xaxis=dict(\n",
    "            tickmode='array',\n",
    "            tickvals=df.index[6:-1],\n",
    "            ticktext=[\">=2003\",2004,2005,2006,2007,2008,2009,2010,2011,2012,2013,2014,2015,2016,2017,2018,2019,2020,2021,2022]\n",
    "        ),\n",
    "\n",
    "        legend=dict(\n",
    "            title = 'Legenda:',\n",
    "            bgcolor='white' \n",
    "        ),\n",
    "        \n",
    "        font=dict( \n",
    "            size=15, \n",
    "            color='#000000'\n",
    "        ),\n",
    "        yaxis=dict(\n",
    "            dtick=500000000,\n",
    "            range=(0,7100000000)\n",
    "        )\n",
    "        \n",
    "    )\n",
    "\n",
    "    fig.update_xaxes(\n",
    "        showgrid=True,\n",
    "        gridwidth=2,\n",
    "        linewidth=2,\n",
    "        linecolor=\"black\"\n",
    "        \n",
    "    )\n",
    "\n",
    "    fig.update_yaxes(\n",
    "        showgrid=True,\n",
    "        gridwidth=2,\n",
    "        linewidth=2,\n",
    "        linecolor=\"black\"\n",
    "    )\n",
    "\n",
    "    fig.show()\n",
    "\n",
    "def replaceNanNum(x):\n",
    "    if x != x:\n",
    "        return 0\n",
    "    return x\n",
    "\n",
    "def diagrammaBarreF2PvsP2P():\n",
    "    df = pd.read_csv('CodicePerGrafici/fileAggiornatoF2P.csv')\n",
    "    df['Release date'] = df['Release date'].astype('datetime64[ns]')\n",
    "\n",
    "    df['year'] = df['Release date'].apply(lambda x: x.year)\n",
    "\n",
    "    P2P = df[df['F2P'] == False]\n",
    "    F2P = df[df['F2P'] == True]\n",
    "\n",
    "\n",
    "\n",
    "    series_P2P = P2P[['year']].value_counts().sort_index()\n",
    "    series_F2P = F2P[['year']].value_counts().sort_index()\n",
    "\n",
    "    series_F2P.apply(lambda x : replaceNanNum(x))\n",
    "    series_P2P.apply(lambda x : replaceNanNum(x))\n",
    "\n",
    "\n",
    "\n",
    "    sum_p2p = series_P2P.cumsum().sort_index()\n",
    "    series_P2P[2008] = sum_p2p[2008]\n",
    "    series_P2P = series_P2P[11:-1]\n",
    "\n",
    "    sum_f2p = series_F2P.cumsum().sort_index()\n",
    "    series_F2P[2008] = sum_f2p[2008]\n",
    "    series_F2P = series_F2P.loc[2008:]          #ci sono dei vuoti negli anni\n",
    "    \n",
    "\n",
    "    df = pd.DataFrame(columns = ['P2P', 'F2P'])\n",
    "    df['P2P'] = round(series_P2P/(series_P2P+series_F2P)*100,2)\n",
    "    df['F2P'] = round(series_F2P/(series_P2P+series_F2P)*100,2)\n",
    "\n",
    "    df.reset_index(inplace=True)\n",
    "    fig = px.bar(df, x=['P2P','F2P'], y='year',\n",
    "            barmode='stack',\n",
    "            orientation='h',\n",
    "            text_auto=True,\n",
    "            color_discrete_map={'P2P': '#d95f02', 'F2P': '#1b9e77'}\n",
    "            )\n",
    "    fig.update_traces(textposition=\"outside\")\n",
    "\n",
    "\n",
    "    fig.update_layout(\n",
    "        font_family=\"Calibri\",\n",
    "        title = \"F2P vs P2P\",\n",
    "        xaxis_title=\"Videogiochi (%)\",\n",
    "        yaxis_title=\"Anni\",\n",
    "        legend=dict(\n",
    "            orientation=\"h\",\n",
    "            yanchor=\"top\",\n",
    "            y=0.99,\n",
    "            xanchor=\"left\",\n",
    "            x=0.01\n",
    "        ),\n",
    "        plot_bgcolor = '#ffffff',\n",
    "        legend_title = \"Categorie giochi\",\n",
    "        font=dict( \n",
    "            size=17, \n",
    "            color=\"#171a21\" \n",
    "        ),\n",
    "        xaxis=dict(\n",
    "            tickmode='array',\n",
    "            range = (-5,105),\n",
    "            tickvals=np.arange(0,101,5),\n",
    "            ticktext=np.arange(0,101,5),\n",
    "        ),\n",
    "\n",
    "        yaxis=dict(\n",
    "            tickmode='array',\n",
    "            tickvals=np.arange(2008,2023,1),\n",
    "            ticktext=np.arange(2008,2023,1)\n",
    "        ),\n",
    "    )\n",
    "    \n",
    "    \n",
    "    fig.show()\n",
    "\n",
    "\n",
    "def uscitePerMese():\n",
    "    df = pd.read_csv('CodicePerGrafici/fileAggiornatoF2P.csv')\n",
    "    df['Release date'] = df['Release date'].astype('datetime64[ns]')\n",
    "    df['month'] = df['Release date'].apply(lambda x: x.month)\n",
    "\n",
    "\n",
    "    fig = go.Figure()\n",
    "    series = df['month'].value_counts().sort_index()\n",
    "\n",
    "    graph = go.Bar(\n",
    "            x=series.index,\n",
    "            y=series/sum(series)*100,\n",
    "            marker=dict(\n",
    "                color='#2a475e' \n",
    "            )\n",
    "            \n",
    "        )\n",
    "    \n",
    "    fig.add_trace(graph)\n",
    "\n",
    "    fig.update_layout(\n",
    "        font_family=\"Calibri\",\n",
    "        title = \"Numero di videogiochi uscite per mese\",\n",
    "        xaxis_title=\"Mesi\",\n",
    "        yaxis_title=\"Percentuale giochi usciti(%)\",\n",
    "        xaxis=dict(\n",
    "            tickmode='array',\n",
    "            tickvals=series.index,\n",
    "            ticktext=[\"Gen\",\"Feb\",\"Mar\",\"Apr\",\"Mag\",\"Giu\",\"Lug\",\"Ago\",\"Set\",\"Ott\",\"Nov\",\"Dic\"]\n",
    "        ),\n",
    "\n",
    "        plot_bgcolor = '#ffffff',\n",
    "        \n",
    "        font=dict( \n",
    "            size=17, \n",
    "            color=\"#171a21\" \n",
    "        )\n",
    "    )\n",
    "\n",
    "    fig.update_yaxes(\n",
    "        showgrid=True,\n",
    "        dtick = 1,\n",
    "        gridcolor='#000000',\n",
    "        zerolinecolor = '#000000',\n",
    "        zerolinewidth = 0.1,\n",
    "    )\n",
    "    fig.show() \n",
    "\n",
    "\n",
    "def valoreOwnerStimato(x):\n",
    "    a = x.split()\n",
    "    return int((int(a[0]) + int(a[2]))/2)\n",
    "\n",
    "def diagrammaBarreF2PvsP2PAvgTime():\n",
    "    df = pd.read_csv('CodicePerGrafici/fileAggiornatoF2P.csv')\n",
    "    df['Release date'] = df['Release date'].astype('datetime64[ns]')\n",
    "\n",
    "    df['Estimated owners'] =  df.apply(lambda x:valoreOwnerStimato(x['Estimated owners']),axis=1)\n",
    "    \n",
    "    df['year'] = df['Release date'].apply(lambda x: x.year)\n",
    "\n",
    "    P2P = df[df['F2P'] == False]\n",
    "    F2P = df[df['F2P'] == True]\n",
    "\n",
    "    P2P['Average playtime forever'] = P2P['Average playtime forever'] * P2P['Estimated owners']\n",
    "    F2P['Average playtime forever'] = F2P['Average playtime forever'] * F2P['Estimated owners']\n",
    "\n",
    "    series_P2P = P2P[['year','Average playtime forever']].groupby('year').sum().sort_index()\n",
    "    series_F2P = F2P[['year','Average playtime forever']].groupby('year').sum().sort_index()\n",
    "\n",
    "    sum_p2p = series_P2P.cumsum().sort_index()\n",
    "    series_P2P.loc[2008] = sum_p2p.loc[2008]\n",
    "    series_P2P = series_P2P[11:-1]\n",
    "\n",
    "    sum_f2p = series_F2P.cumsum().sort_index()\n",
    "    series_F2P.loc[2008] = sum_f2p.loc[2008]\n",
    "    series_F2P = series_F2P.loc[2008:]          #ci sono dei vuoti negli anni\n",
    "    \n",
    "\n",
    "    df = pd.DataFrame(columns = ['P2P', 'F2P'])\n",
    "    df['P2P'] = round(series_P2P/(series_P2P+series_F2P)*100,2)\n",
    "    df['F2P'] = round(series_F2P/(series_P2P+series_F2P)*100,2)\n",
    "\n",
    "    df.reset_index(inplace=True)\n",
    "    fig = px.bar(df, x=['P2P','F2P'], y='year',\n",
    "            barmode='stack',\n",
    "            orientation='h',\n",
    "            text_auto=True,\n",
    "            color_discrete_map={'P2P': '#d95f02', 'F2P': '#1b9e77'}\n",
    "            )\n",
    "    fig.update_traces(textposition=\"outside\")\n",
    "\n",
    "\n",
    "    fig.update_layout(\n",
    "        font_family=\"Calibri\",\n",
    "        title = \"F2P vs P2P AVG TIME FOREVER * E_U\",\n",
    "        xaxis_title=\"Videogiochi (%)\",\n",
    "        yaxis_title=\"Anni\",\n",
    "        legend=dict(\n",
    "            orientation=\"h\",\n",
    "            yanchor=\"top\",\n",
    "            y=0.99,\n",
    "            xanchor=\"left\",\n",
    "            x=0.01\n",
    "        ),\n",
    "        plot_bgcolor = '#ffffff',\n",
    "        legend_title = \"Categorie giochi\",\n",
    "        font=dict( \n",
    "            size=17, \n",
    "            color=\"#171a21\" \n",
    "        ),\n",
    "        xaxis=dict(\n",
    "            tickmode='array',\n",
    "            range = (-5,105),\n",
    "            tickvals=np.arange(0,101,5),\n",
    "            ticktext=np.arange(0,101,5),\n",
    "        ),\n",
    "\n",
    "        yaxis=dict(\n",
    "            tickmode='array',\n",
    "            tickvals=np.arange(2008,2023,1),\n",
    "            ticktext=np.arange(2008,2023,1)\n",
    "        ),\n",
    "    )\n",
    "    \n",
    "    \n",
    "    fig.show()\n",
    "\n",
    "def diagrammaBarreF2PvsP2PPeakCCU():\n",
    "    df = pd.read_csv('CodicePerGrafici/fileAggiornatoF2P.csv')\n",
    "    df['Release date'] = df['Release date'].astype('datetime64[ns]')\n",
    "\n",
    "    df['year'] = df['Release date'].apply(lambda x: x.year)\n",
    "\n",
    "    P2P = df[df['F2P'] == False]\n",
    "    F2P = df[df['F2P'] == True]\n",
    "\n",
    "    series_P2P = P2P[['year','Peak CCU']].groupby('year').sum().sort_index()\n",
    "    series_F2P = F2P[['year','Peak CCU']].groupby('year').sum().sort_index()\n",
    "\n",
    "    sum_p2p = series_P2P.cumsum().sort_index()\n",
    "    series_P2P.loc[2008] = sum_p2p.loc[2008]\n",
    "    series_P2P = series_P2P[11:-1]\n",
    "\n",
    "    sum_f2p = series_F2P.cumsum().sort_index()\n",
    "    series_F2P.loc[2008] = sum_f2p.loc[2008]\n",
    "    series_F2P = series_F2P.loc[2008:]          #ci sono dei vuoti negli anni\n",
    "    \n",
    "\n",
    "    df = pd.DataFrame(columns = ['P2P', 'F2P'])\n",
    "    df['P2P'] = round(series_P2P/(series_P2P+series_F2P)*100,2)\n",
    "    df['F2P'] = round(series_F2P/(series_P2P+series_F2P)*100,2)\n",
    "\n",
    "    df.reset_index(inplace=True)\n",
    "    fig = px.bar(df, x=['P2P','F2P'], y='year',\n",
    "            barmode='stack',\n",
    "            orientation='h',\n",
    "            text_auto=True,\n",
    "            color_discrete_map={'P2P': '#d95f02', 'F2P': '#1b9e77'}\n",
    "            )\n",
    "    fig.update_traces(textposition=\"outside\")\n",
    "\n",
    "\n",
    "    fig.update_layout(\n",
    "        font_family=\"Calibri\",\n",
    "        title = \"F2P vs P2P PEAK CCU\",\n",
    "        xaxis_title=\"Videogiochi (%)\",\n",
    "        yaxis_title=\"Anni\",\n",
    "        legend=dict(\n",
    "            orientation=\"h\",\n",
    "            yanchor=\"top\",\n",
    "            y=0.99,\n",
    "            xanchor=\"left\",\n",
    "            x=0.01\n",
    "        ),\n",
    "        plot_bgcolor = '#ffffff',\n",
    "        legend_title = \"Categorie giochi\",\n",
    "        font=dict( \n",
    "            size=17, \n",
    "            color=\"#171a21\" \n",
    "        ),\n",
    "        xaxis=dict(\n",
    "            tickmode='array',\n",
    "            range = (-5,105),\n",
    "            tickvals=np.arange(0,101,5),\n",
    "            ticktext=np.arange(0,101,5),\n",
    "        ),\n",
    "\n",
    "        yaxis=dict(\n",
    "            tickmode='array',\n",
    "            tickvals=np.arange(2008,2023,1),\n",
    "            ticktext=np.arange(2008,2023,1)\n",
    "        ),\n",
    "    )\n",
    "    \n",
    "    \n",
    "    fig.show()\n",
    "\n",
    "graficoBarrePerEstimated()\n",
    "#diagrammaBarreF2PvsP2P()\n",
    "#uscitePerMese()\n",
    "#diagrammaBarreF2PvsP2PAvgTime()\n",
    "#diagrammaBarreF2PvsP2PPeakCCU()"
   ]
  }
 ],
 "metadata": {
  "kernelspec": {
   "display_name": "Python 3 (ipykernel)",
   "language": "python",
   "name": "python3"
  },
  "language_info": {
   "codemirror_mode": {
    "name": "ipython",
    "version": 3
   },
   "file_extension": ".py",
   "mimetype": "text/x-python",
   "name": "python",
   "nbconvert_exporter": "python",
   "pygments_lexer": "ipython3",
   "version": "3.11.4"
  }
 },
 "nbformat": 4,
 "nbformat_minor": 5
}
